{
  "nbformat": 4,
  "nbformat_minor": 0,
  "metadata": {
    "colab": {
      "provenance": [],
      "authorship_tag": "ABX9TyOAfFYhpclwYC/4Bqhm4ddF",
      "include_colab_link": true
    },
    "kernelspec": {
      "name": "python3",
      "display_name": "Python 3"
    },
    "language_info": {
      "name": "python"
    }
  },
  "cells": [
    {
      "cell_type": "markdown",
      "metadata": {
        "id": "view-in-github",
        "colab_type": "text"
      },
      "source": [
        "<a href=\"https://colab.research.google.com/github/shivanesh31/Shivanesh/blob/main/my_labs/BigData_EDA.ipynb\" target=\"_parent\"><img src=\"https://colab.research.google.com/assets/colab-badge.svg\" alt=\"Open In Colab\"/></a>"
      ]
    },
    {
      "cell_type": "code",
      "execution_count": 2,
      "metadata": {
        "colab": {
          "base_uri": "https://localhost:8080/"
        },
        "id": "f0HAq_Du_FgR",
        "outputId": "ee6e8715-5d5d-455c-e064-5f1aada0e90c"
      },
      "outputs": [
        {
          "output_type": "stream",
          "name": "stdout",
          "text": [
            "Drive already mounted at /content/drive; to attempt to forcibly remount, call drive.mount(\"/content/drive\", force_remount=True).\n"
          ]
        }
      ],
      "source": [
        "from google.colab import drive\n",
        "drive.mount('/content/drive')"
      ]
    },
    {
      "cell_type": "markdown",
      "source": [
        "# **Introduction**\n",
        "\n",
        "Exploratory Data Analysis on NYC Taxi data"
      ],
      "metadata": {
        "id": "RXwxBk2L6rcM"
      }
    },
    {
      "cell_type": "markdown",
      "source": [
        "Import Data from Kaggle using Kaggle API"
      ],
      "metadata": {
        "id": "Dbiz27Y461mP"
      }
    },
    {
      "cell_type": "code",
      "source": [
        "! pip install kaggle\n",
        "!mkdir ~/.kaggle\n",
        "!cp /content/drive/MyDrive/kaggle.json ~/.kaggle/kaggle.json\n",
        "!chmod 600 ~/.kaggle/kaggle.json\n",
        "!kaggle datasets download -d elemento/nyc-yellow-taxi-trip-data"
      ],
      "metadata": {
        "colab": {
          "base_uri": "https://localhost:8080/"
        },
        "id": "YlQR6Hsl_b1v",
        "outputId": "dc48fc2e-f413-482e-a6d3-360ee207d651"
      },
      "execution_count": 3,
      "outputs": [
        {
          "output_type": "stream",
          "name": "stdout",
          "text": [
            "Requirement already satisfied: kaggle in /usr/local/lib/python3.10/dist-packages (1.5.16)\n",
            "Requirement already satisfied: six>=1.10 in /usr/local/lib/python3.10/dist-packages (from kaggle) (1.16.0)\n",
            "Requirement already satisfied: certifi in /usr/local/lib/python3.10/dist-packages (from kaggle) (2023.7.22)\n",
            "Requirement already satisfied: python-dateutil in /usr/local/lib/python3.10/dist-packages (from kaggle) (2.8.2)\n",
            "Requirement already satisfied: requests in /usr/local/lib/python3.10/dist-packages (from kaggle) (2.31.0)\n",
            "Requirement already satisfied: tqdm in /usr/local/lib/python3.10/dist-packages (from kaggle) (4.66.1)\n",
            "Requirement already satisfied: python-slugify in /usr/local/lib/python3.10/dist-packages (from kaggle) (8.0.1)\n",
            "Requirement already satisfied: urllib3 in /usr/local/lib/python3.10/dist-packages (from kaggle) (2.0.7)\n",
            "Requirement already satisfied: bleach in /usr/local/lib/python3.10/dist-packages (from kaggle) (6.1.0)\n",
            "Requirement already satisfied: webencodings in /usr/local/lib/python3.10/dist-packages (from bleach->kaggle) (0.5.1)\n",
            "Requirement already satisfied: text-unidecode>=1.3 in /usr/local/lib/python3.10/dist-packages (from python-slugify->kaggle) (1.3)\n",
            "Requirement already satisfied: charset-normalizer<4,>=2 in /usr/local/lib/python3.10/dist-packages (from requests->kaggle) (3.3.2)\n",
            "Requirement already satisfied: idna<4,>=2.5 in /usr/local/lib/python3.10/dist-packages (from requests->kaggle) (3.4)\n",
            "mkdir: cannot create directory ‘/root/.kaggle’: File exists\n",
            "nyc-yellow-taxi-trip-data.zip: Skipping, found more recently modified local copy (use --force to force download)\n"
          ]
        }
      ]
    },
    {
      "cell_type": "code",
      "source": [
        "!unzip nyc-yellow-taxi-trip-data.zip"
      ],
      "metadata": {
        "colab": {
          "base_uri": "https://localhost:8080/"
        },
        "id": "PtdqBinTAGPV",
        "outputId": "eda9ace7-d619-4337-af23-93e7769bf4b0"
      },
      "execution_count": 5,
      "outputs": [
        {
          "output_type": "stream",
          "name": "stdout",
          "text": [
            "Archive:  nyc-yellow-taxi-trip-data.zip\n",
            "replace yellow_tripdata_2015-01.csv? [y]es, [n]o, [A]ll, [N]one, [r]ename: n\n",
            "replace yellow_tripdata_2016-01.csv? [y]es, [n]o, [A]ll, [N]one, [r]ename: n\n",
            "replace yellow_tripdata_2016-02.csv? [y]es, [n]o, [A]ll, [N]one, [r]ename: n\n",
            "replace yellow_tripdata_2016-03.csv? [y]es, [n]o, [A]ll, [N]one, [r]ename: n\n"
          ]
        }
      ]
    },
    {
      "cell_type": "markdown",
      "source": [
        "# **Libraries**"
      ],
      "metadata": {
        "id": "-ZmoiXFr66Q-"
      }
    },
    {
      "cell_type": "code",
      "source": [
        "import numpy as np\n",
        "import pandas as pd\n",
        "import matplotlib.pyplot as plt\n",
        "import seaborn as sns\n",
        "import datetime\n",
        "sns.set()\n"
      ],
      "metadata": {
        "id": "80wH5z6ogyst"
      },
      "execution_count": 6,
      "outputs": []
    },
    {
      "cell_type": "markdown",
      "source": [
        "Import the Data"
      ],
      "metadata": {
        "id": "9JCxLGCA7BXb"
      }
    },
    {
      "cell_type": "code",
      "source": [
        "df = pd.read_csv(\"/content/yellow_tripdata_2015-01.csv\")\n"
      ],
      "metadata": {
        "id": "rzuI_tcl6g5N"
      },
      "execution_count": 7,
      "outputs": []
    },
    {
      "cell_type": "markdown",
      "source": [
        "Explore the Data\n"
      ],
      "metadata": {
        "id": "2BPE7bnj7GMS"
      }
    },
    {
      "cell_type": "code",
      "source": [
        "df.columns"
      ],
      "metadata": {
        "colab": {
          "base_uri": "https://localhost:8080/"
        },
        "id": "lKQYr4fHg1E1",
        "outputId": "039b4bec-5b03-4916-cd3b-ab08bdd36a6e"
      },
      "execution_count": 7,
      "outputs": [
        {
          "output_type": "execute_result",
          "data": {
            "text/plain": [
              "Index(['VendorID', 'tpep_pickup_datetime', 'tpep_dropoff_datetime',\n",
              "       'passenger_count', 'trip_distance', 'pickup_longitude',\n",
              "       'pickup_latitude', 'RateCodeID', 'store_and_fwd_flag',\n",
              "       'dropoff_longitude', 'dropoff_latitude', 'payment_type', 'fare_amount',\n",
              "       'extra', 'mta_tax', 'tip_amount', 'tolls_amount',\n",
              "       'improvement_surcharge', 'total_amount'],\n",
              "      dtype='object')"
            ]
          },
          "metadata": {},
          "execution_count": 7
        }
      ]
    },
    {
      "cell_type": "code",
      "source": [
        "# This library helps to open street map\n",
        "import folium\n",
        "\n",
        "# Similar to pandas, but helps in parallel computing\n",
        "# Below are some resources for getting familiar with Dask\n",
        "# https://www.youtube.com/watch?v=ieW3G7ZzRZ0\n",
        "# https://github.com/dask/dask-tutorial\n",
        "# https://github.com/dask/dask-tutorial/blob/master/07_dataframe.ipynb\n",
        "import dask.dataframe as dd\n",
        "\n",
        "# This library is used while we calculate the straight line distance between two (lat, lon) pairs\n",
        "# in miles. Get the haversine distance\n",
        "import gpxpy.geo\n",
        "\n",
        "# Used to determine the size of plots\n",
        "from matplotlib import rcParams\n",
        "\n",
        "# https://pyroomacoustics.readthedocs.io/en/pypi-release/pyroomacoustics.doa.detect_peaks.html\n",
        "# Used for detection of peaks\n",
        "from pyroomacoustics.doa.detect_peaks import detect_peaks\n",
        "\n",
        "# Download migwin: https://mingw-w64.org/doku.php/download/mingw-builds\n",
        "# Install it in your system and keep the path, migw_path ='installed path'\n",
        "# mingw_path = 'C:\\\\Program Files\\\\mingw-w64\\\\x86_64-5.3.0-posix-seh-rt_v4-rev0\\\\mingw64\\\\bin'\n",
        "# os.environ['PATH'] = mingw_path + ';' + os.environ['PATH']\n",
        "\n",
        "from sklearn.cluster import MiniBatchKMeans, KMeans\n",
        "from sklearn.ensemble import RandomForestRegressor\n",
        "from sklearn.metrics import mean_squared_error, mean_absolute_error\n",
        "from sklearn.model_selection import GridSearchCV, RandomizedSearchCV\n",
        "from sklearn.linear_model import LinearRegression\n",
        "\n",
        "from prettytable import PrettyTable\n",
        "from datetime import datetime as dt\n",
        "\n",
        "matplotlib.use('nbagg');\n",
        "warnings.filterwarnings(\"ignore\");\n",
        "%matplotlib inline\n",
        "\n",
        "# To find the running time of the entire kernel\n",
        "globalstart = dt.now()"
      ],
      "metadata": {
        "id": "W_h3G9whnAYW"
      },
      "execution_count": null,
      "outputs": []
    },
    {
      "cell_type": "code",
      "source": [
        "class DfOverview:\n",
        "    \"\"\"\n",
        "        Give an overview for a given data frame,\n",
        "        like null persentage for each columns,\n",
        "        unique value percentage for each columns and more\n",
        "    \"\"\"\n",
        "\n",
        "    def __init__(self, df: pd.DataFrame) -> None:\n",
        "        self.df = df\n",
        "\n",
        "    def missing_value(self) -> None:\n",
        "        nullSum = self.df.isna().sum()\n",
        "        return [col for col in nullSum]\n",
        "\n",
        "    def percentage(self, list):\n",
        "        return [str(round(((value / self.df.shape[0]) * 100), 2)) + '%' for value in list]\n",
        "\n",
        "    def getOverview(self) -> None:\n",
        "\n",
        "        _columns = [column for column in self.df]\n",
        "        _count = self.df.count().values\n",
        "        _unique = [self.df[column].value_counts().shape[0] for column in self.df]\n",
        "        _missing_values = self.missing_value()\n",
        "\n",
        "        columns = [\n",
        "            'Column',\n",
        "            'count',\n",
        "            'missing_value_count',\n",
        "            'Missing_value_percentage',\n",
        "            'unique_value_count',\n",
        "            'unique_value_percentage',\n",
        "            'dtype']\n",
        "        data = zip(\n",
        "            _columns,\n",
        "            _count,\n",
        "            _missing_values,\n",
        "            self.percentage(_missing_values),\n",
        "            _unique,\n",
        "            self.percentage(_unique),\n",
        "            self.df.dtypes\n",
        "        )\n",
        "        new_df = pd.DataFrame(data=data, columns=columns)\n",
        "        return new_df"
      ],
      "metadata": {
        "id": "4W0GVFEvpQHr"
      },
      "execution_count": 6,
      "outputs": []
    },
    {
      "cell_type": "code",
      "source": [
        "def show_cols_mixed_dtypes(df):\n",
        "    mixed_dtypes = {'Column': [], 'Data type': []}\n",
        "    for col in df.columns:\n",
        "        dtype = pd.api.types.infer_dtype(df[col])\n",
        "        if dtype.startswith(\"mixed\"):\n",
        "            mixed_dtypes['Column'].append(col)\n",
        "            mixed_dtypes['Data type'].append(dtype)\n",
        "    if len(mixed_dtypes['Column']) == 0:\n",
        "        print('None of the columns contain mixed types.')\n",
        "    else:\n",
        "        print(pd.DataFrame(mixed_dtypes))"
      ],
      "metadata": {
        "id": "hbxnA1rPsy1O"
      },
      "execution_count": 8,
      "outputs": []
    },
    {
      "cell_type": "markdown",
      "source": [
        "# **General Statistics**\n",
        "\n",
        "\n"
      ],
      "metadata": {
        "id": "nj6c9AsDoyaO"
      }
    },
    {
      "cell_type": "code",
      "source": [
        "df.size"
      ],
      "metadata": {
        "colab": {
          "base_uri": "https://localhost:8080/"
        },
        "id": "4XLGeOkdj60X",
        "outputId": "e6c38f27-6ad9-4916-9e2c-0ba57e1be9d4"
      },
      "execution_count": 9,
      "outputs": [
        {
          "output_type": "execute_result",
          "data": {
            "text/plain": [
              "242230734"
            ]
          },
          "metadata": {},
          "execution_count": 9
        }
      ]
    },
    {
      "cell_type": "code",
      "source": [
        "df.shape"
      ],
      "metadata": {
        "colab": {
          "base_uri": "https://localhost:8080/"
        },
        "id": "K91MySqbo6LG",
        "outputId": "dc1e54eb-6d30-4b16-b628-8ffcb559f0d0"
      },
      "execution_count": 10,
      "outputs": [
        {
          "output_type": "execute_result",
          "data": {
            "text/plain": [
              "(12748986, 19)"
            ]
          },
          "metadata": {},
          "execution_count": 10
        }
      ]
    },
    {
      "cell_type": "code",
      "source": [
        "df.info()"
      ],
      "metadata": {
        "colab": {
          "base_uri": "https://localhost:8080/"
        },
        "id": "gVvtV6HRpEmz",
        "outputId": "a5e66765-294e-47a5-ed00-72c9ac2e870e"
      },
      "execution_count": 11,
      "outputs": [
        {
          "output_type": "stream",
          "name": "stdout",
          "text": [
            "<class 'pandas.core.frame.DataFrame'>\n",
            "RangeIndex: 12748986 entries, 0 to 12748985\n",
            "Data columns (total 19 columns):\n",
            " #   Column                 Dtype  \n",
            "---  ------                 -----  \n",
            " 0   VendorID               int64  \n",
            " 1   tpep_pickup_datetime   object \n",
            " 2   tpep_dropoff_datetime  object \n",
            " 3   passenger_count        int64  \n",
            " 4   trip_distance          float64\n",
            " 5   pickup_longitude       float64\n",
            " 6   pickup_latitude        float64\n",
            " 7   RateCodeID             int64  \n",
            " 8   store_and_fwd_flag     object \n",
            " 9   dropoff_longitude      float64\n",
            " 10  dropoff_latitude       float64\n",
            " 11  payment_type           int64  \n",
            " 12  fare_amount            float64\n",
            " 13  extra                  float64\n",
            " 14  mta_tax                float64\n",
            " 15  tip_amount             float64\n",
            " 16  tolls_amount           float64\n",
            " 17  improvement_surcharge  float64\n",
            " 18  total_amount           float64\n",
            "dtypes: float64(12), int64(4), object(3)\n",
            "memory usage: 1.8+ GB\n"
          ]
        }
      ]
    },
    {
      "cell_type": "code",
      "source": [
        "df_overview = DfOverview(df)\n",
        "df_overview.getOverview().transpose()"
      ],
      "metadata": {
        "colab": {
          "base_uri": "https://localhost:8080/",
          "height": 289
        },
        "id": "e_mRmD7fpJoH",
        "outputId": "3bbd1478-753c-4885-e600-914f8b176289"
      },
      "execution_count": 12,
      "outputs": [
        {
          "output_type": "execute_result",
          "data": {
            "text/plain": [
              "                                0                     1   \\\n",
              "Column                    VendorID  tpep_pickup_datetime   \n",
              "count                     12748986              12748986   \n",
              "missing_value_count              0                     0   \n",
              "Missing_value_percentage      0.0%                  0.0%   \n",
              "unique_value_count               2               2438284   \n",
              "unique_value_percentage       0.0%                19.13%   \n",
              "dtype                        int64                object   \n",
              "\n",
              "                                             2                3   \\\n",
              "Column                    tpep_dropoff_datetime  passenger_count   \n",
              "count                                  12748986         12748986   \n",
              "missing_value_count                           0                0   \n",
              "Missing_value_percentage                   0.0%             0.0%   \n",
              "unique_value_count                      2442163               10   \n",
              "unique_value_percentage                  19.16%             0.0%   \n",
              "dtype                                    object            int64   \n",
              "\n",
              "                                     4                 5                6   \\\n",
              "Column                    trip_distance  pickup_longitude  pickup_latitude   \n",
              "count                          12748986          12748986         12748986   \n",
              "missing_value_count                   0                 0                0   \n",
              "Missing_value_percentage           0.0%              0.0%             0.0%   \n",
              "unique_value_count                 4350             35900            62748   \n",
              "unique_value_percentage           0.03%             0.28%            0.49%   \n",
              "dtype                           float64           float64          float64   \n",
              "\n",
              "                                  7                   8                  9   \\\n",
              "Column                    RateCodeID  store_and_fwd_flag  dropoff_longitude   \n",
              "count                       12748986            12748986           12748986   \n",
              "missing_value_count                0                   0                  0   \n",
              "Missing_value_percentage        0.0%                0.0%               0.0%   \n",
              "unique_value_count                 7                   2              53297   \n",
              "unique_value_percentage         0.0%                0.0%              0.42%   \n",
              "dtype                          int64              object            float64   \n",
              "\n",
              "                                        10            11           12  \\\n",
              "Column                    dropoff_latitude  payment_type  fare_amount   \n",
              "count                             12748986      12748986     12748986   \n",
              "missing_value_count                      0             0            0   \n",
              "Missing_value_percentage              0.0%          0.0%         0.0%   \n",
              "unique_value_count                   87523             5         2053   \n",
              "unique_value_percentage              0.69%          0.0%        0.02%   \n",
              "dtype                              float64         int64      float64   \n",
              "\n",
              "                                13        14          15            16  \\\n",
              "Column                       extra   mta_tax  tip_amount  tolls_amount   \n",
              "count                     12748986  12748986    12748986      12748986   \n",
              "missing_value_count              0         0           0             0   \n",
              "Missing_value_percentage      0.0%      0.0%        0.0%          0.0%   \n",
              "unique_value_count              55         3        3596           932   \n",
              "unique_value_percentage       0.0%      0.0%       0.03%         0.01%   \n",
              "dtype                      float64   float64     float64       float64   \n",
              "\n",
              "                                             17            18  \n",
              "Column                    improvement_surcharge  total_amount  \n",
              "count                                  12748983      12748986  \n",
              "missing_value_count                           3             0  \n",
              "Missing_value_percentage                   0.0%          0.0%  \n",
              "unique_value_count                            2         11969  \n",
              "unique_value_percentage                    0.0%         0.09%  \n",
              "dtype                                   float64       float64  "
            ],
            "text/html": [
              "\n",
              "  <div id=\"df-485ef59c-7e2e-413c-894d-bbe21bc8874d\" class=\"colab-df-container\">\n",
              "    <div>\n",
              "<style scoped>\n",
              "    .dataframe tbody tr th:only-of-type {\n",
              "        vertical-align: middle;\n",
              "    }\n",
              "\n",
              "    .dataframe tbody tr th {\n",
              "        vertical-align: top;\n",
              "    }\n",
              "\n",
              "    .dataframe thead th {\n",
              "        text-align: right;\n",
              "    }\n",
              "</style>\n",
              "<table border=\"1\" class=\"dataframe\">\n",
              "  <thead>\n",
              "    <tr style=\"text-align: right;\">\n",
              "      <th></th>\n",
              "      <th>0</th>\n",
              "      <th>1</th>\n",
              "      <th>2</th>\n",
              "      <th>3</th>\n",
              "      <th>4</th>\n",
              "      <th>5</th>\n",
              "      <th>6</th>\n",
              "      <th>7</th>\n",
              "      <th>8</th>\n",
              "      <th>9</th>\n",
              "      <th>10</th>\n",
              "      <th>11</th>\n",
              "      <th>12</th>\n",
              "      <th>13</th>\n",
              "      <th>14</th>\n",
              "      <th>15</th>\n",
              "      <th>16</th>\n",
              "      <th>17</th>\n",
              "      <th>18</th>\n",
              "    </tr>\n",
              "  </thead>\n",
              "  <tbody>\n",
              "    <tr>\n",
              "      <th>Column</th>\n",
              "      <td>VendorID</td>\n",
              "      <td>tpep_pickup_datetime</td>\n",
              "      <td>tpep_dropoff_datetime</td>\n",
              "      <td>passenger_count</td>\n",
              "      <td>trip_distance</td>\n",
              "      <td>pickup_longitude</td>\n",
              "      <td>pickup_latitude</td>\n",
              "      <td>RateCodeID</td>\n",
              "      <td>store_and_fwd_flag</td>\n",
              "      <td>dropoff_longitude</td>\n",
              "      <td>dropoff_latitude</td>\n",
              "      <td>payment_type</td>\n",
              "      <td>fare_amount</td>\n",
              "      <td>extra</td>\n",
              "      <td>mta_tax</td>\n",
              "      <td>tip_amount</td>\n",
              "      <td>tolls_amount</td>\n",
              "      <td>improvement_surcharge</td>\n",
              "      <td>total_amount</td>\n",
              "    </tr>\n",
              "    <tr>\n",
              "      <th>count</th>\n",
              "      <td>12748986</td>\n",
              "      <td>12748986</td>\n",
              "      <td>12748986</td>\n",
              "      <td>12748986</td>\n",
              "      <td>12748986</td>\n",
              "      <td>12748986</td>\n",
              "      <td>12748986</td>\n",
              "      <td>12748986</td>\n",
              "      <td>12748986</td>\n",
              "      <td>12748986</td>\n",
              "      <td>12748986</td>\n",
              "      <td>12748986</td>\n",
              "      <td>12748986</td>\n",
              "      <td>12748986</td>\n",
              "      <td>12748986</td>\n",
              "      <td>12748986</td>\n",
              "      <td>12748986</td>\n",
              "      <td>12748983</td>\n",
              "      <td>12748986</td>\n",
              "    </tr>\n",
              "    <tr>\n",
              "      <th>missing_value_count</th>\n",
              "      <td>0</td>\n",
              "      <td>0</td>\n",
              "      <td>0</td>\n",
              "      <td>0</td>\n",
              "      <td>0</td>\n",
              "      <td>0</td>\n",
              "      <td>0</td>\n",
              "      <td>0</td>\n",
              "      <td>0</td>\n",
              "      <td>0</td>\n",
              "      <td>0</td>\n",
              "      <td>0</td>\n",
              "      <td>0</td>\n",
              "      <td>0</td>\n",
              "      <td>0</td>\n",
              "      <td>0</td>\n",
              "      <td>0</td>\n",
              "      <td>3</td>\n",
              "      <td>0</td>\n",
              "    </tr>\n",
              "    <tr>\n",
              "      <th>Missing_value_percentage</th>\n",
              "      <td>0.0%</td>\n",
              "      <td>0.0%</td>\n",
              "      <td>0.0%</td>\n",
              "      <td>0.0%</td>\n",
              "      <td>0.0%</td>\n",
              "      <td>0.0%</td>\n",
              "      <td>0.0%</td>\n",
              "      <td>0.0%</td>\n",
              "      <td>0.0%</td>\n",
              "      <td>0.0%</td>\n",
              "      <td>0.0%</td>\n",
              "      <td>0.0%</td>\n",
              "      <td>0.0%</td>\n",
              "      <td>0.0%</td>\n",
              "      <td>0.0%</td>\n",
              "      <td>0.0%</td>\n",
              "      <td>0.0%</td>\n",
              "      <td>0.0%</td>\n",
              "      <td>0.0%</td>\n",
              "    </tr>\n",
              "    <tr>\n",
              "      <th>unique_value_count</th>\n",
              "      <td>2</td>\n",
              "      <td>2438284</td>\n",
              "      <td>2442163</td>\n",
              "      <td>10</td>\n",
              "      <td>4350</td>\n",
              "      <td>35900</td>\n",
              "      <td>62748</td>\n",
              "      <td>7</td>\n",
              "      <td>2</td>\n",
              "      <td>53297</td>\n",
              "      <td>87523</td>\n",
              "      <td>5</td>\n",
              "      <td>2053</td>\n",
              "      <td>55</td>\n",
              "      <td>3</td>\n",
              "      <td>3596</td>\n",
              "      <td>932</td>\n",
              "      <td>2</td>\n",
              "      <td>11969</td>\n",
              "    </tr>\n",
              "    <tr>\n",
              "      <th>unique_value_percentage</th>\n",
              "      <td>0.0%</td>\n",
              "      <td>19.13%</td>\n",
              "      <td>19.16%</td>\n",
              "      <td>0.0%</td>\n",
              "      <td>0.03%</td>\n",
              "      <td>0.28%</td>\n",
              "      <td>0.49%</td>\n",
              "      <td>0.0%</td>\n",
              "      <td>0.0%</td>\n",
              "      <td>0.42%</td>\n",
              "      <td>0.69%</td>\n",
              "      <td>0.0%</td>\n",
              "      <td>0.02%</td>\n",
              "      <td>0.0%</td>\n",
              "      <td>0.0%</td>\n",
              "      <td>0.03%</td>\n",
              "      <td>0.01%</td>\n",
              "      <td>0.0%</td>\n",
              "      <td>0.09%</td>\n",
              "    </tr>\n",
              "    <tr>\n",
              "      <th>dtype</th>\n",
              "      <td>int64</td>\n",
              "      <td>object</td>\n",
              "      <td>object</td>\n",
              "      <td>int64</td>\n",
              "      <td>float64</td>\n",
              "      <td>float64</td>\n",
              "      <td>float64</td>\n",
              "      <td>int64</td>\n",
              "      <td>object</td>\n",
              "      <td>float64</td>\n",
              "      <td>float64</td>\n",
              "      <td>int64</td>\n",
              "      <td>float64</td>\n",
              "      <td>float64</td>\n",
              "      <td>float64</td>\n",
              "      <td>float64</td>\n",
              "      <td>float64</td>\n",
              "      <td>float64</td>\n",
              "      <td>float64</td>\n",
              "    </tr>\n",
              "  </tbody>\n",
              "</table>\n",
              "</div>\n",
              "    <div class=\"colab-df-buttons\">\n",
              "\n",
              "  <div class=\"colab-df-container\">\n",
              "    <button class=\"colab-df-convert\" onclick=\"convertToInteractive('df-485ef59c-7e2e-413c-894d-bbe21bc8874d')\"\n",
              "            title=\"Convert this dataframe to an interactive table.\"\n",
              "            style=\"display:none;\">\n",
              "\n",
              "  <svg xmlns=\"http://www.w3.org/2000/svg\" height=\"24px\" viewBox=\"0 -960 960 960\">\n",
              "    <path d=\"M120-120v-720h720v720H120Zm60-500h600v-160H180v160Zm220 220h160v-160H400v160Zm0 220h160v-160H400v160ZM180-400h160v-160H180v160Zm440 0h160v-160H620v160ZM180-180h160v-160H180v160Zm440 0h160v-160H620v160Z\"/>\n",
              "  </svg>\n",
              "    </button>\n",
              "\n",
              "  <style>\n",
              "    .colab-df-container {\n",
              "      display:flex;\n",
              "      gap: 12px;\n",
              "    }\n",
              "\n",
              "    .colab-df-convert {\n",
              "      background-color: #E8F0FE;\n",
              "      border: none;\n",
              "      border-radius: 50%;\n",
              "      cursor: pointer;\n",
              "      display: none;\n",
              "      fill: #1967D2;\n",
              "      height: 32px;\n",
              "      padding: 0 0 0 0;\n",
              "      width: 32px;\n",
              "    }\n",
              "\n",
              "    .colab-df-convert:hover {\n",
              "      background-color: #E2EBFA;\n",
              "      box-shadow: 0px 1px 2px rgba(60, 64, 67, 0.3), 0px 1px 3px 1px rgba(60, 64, 67, 0.15);\n",
              "      fill: #174EA6;\n",
              "    }\n",
              "\n",
              "    .colab-df-buttons div {\n",
              "      margin-bottom: 4px;\n",
              "    }\n",
              "\n",
              "    [theme=dark] .colab-df-convert {\n",
              "      background-color: #3B4455;\n",
              "      fill: #D2E3FC;\n",
              "    }\n",
              "\n",
              "    [theme=dark] .colab-df-convert:hover {\n",
              "      background-color: #434B5C;\n",
              "      box-shadow: 0px 1px 3px 1px rgba(0, 0, 0, 0.15);\n",
              "      filter: drop-shadow(0px 1px 2px rgba(0, 0, 0, 0.3));\n",
              "      fill: #FFFFFF;\n",
              "    }\n",
              "  </style>\n",
              "\n",
              "    <script>\n",
              "      const buttonEl =\n",
              "        document.querySelector('#df-485ef59c-7e2e-413c-894d-bbe21bc8874d button.colab-df-convert');\n",
              "      buttonEl.style.display =\n",
              "        google.colab.kernel.accessAllowed ? 'block' : 'none';\n",
              "\n",
              "      async function convertToInteractive(key) {\n",
              "        const element = document.querySelector('#df-485ef59c-7e2e-413c-894d-bbe21bc8874d');\n",
              "        const dataTable =\n",
              "          await google.colab.kernel.invokeFunction('convertToInteractive',\n",
              "                                                    [key], {});\n",
              "        if (!dataTable) return;\n",
              "\n",
              "        const docLinkHtml = 'Like what you see? Visit the ' +\n",
              "          '<a target=\"_blank\" href=https://colab.research.google.com/notebooks/data_table.ipynb>data table notebook</a>'\n",
              "          + ' to learn more about interactive tables.';\n",
              "        element.innerHTML = '';\n",
              "        dataTable['output_type'] = 'display_data';\n",
              "        await google.colab.output.renderOutput(dataTable, element);\n",
              "        const docLink = document.createElement('div');\n",
              "        docLink.innerHTML = docLinkHtml;\n",
              "        element.appendChild(docLink);\n",
              "      }\n",
              "    </script>\n",
              "  </div>\n",
              "\n",
              "\n",
              "<div id=\"df-3b656ee9-b3e8-4563-810e-bf9906b61ec7\">\n",
              "  <button class=\"colab-df-quickchart\" onclick=\"quickchart('df-3b656ee9-b3e8-4563-810e-bf9906b61ec7')\"\n",
              "            title=\"Suggest charts\"\n",
              "            style=\"display:none;\">\n",
              "\n",
              "<svg xmlns=\"http://www.w3.org/2000/svg\" height=\"24px\"viewBox=\"0 0 24 24\"\n",
              "     width=\"24px\">\n",
              "    <g>\n",
              "        <path d=\"M19 3H5c-1.1 0-2 .9-2 2v14c0 1.1.9 2 2 2h14c1.1 0 2-.9 2-2V5c0-1.1-.9-2-2-2zM9 17H7v-7h2v7zm4 0h-2V7h2v10zm4 0h-2v-4h2v4z\"/>\n",
              "    </g>\n",
              "</svg>\n",
              "  </button>\n",
              "\n",
              "<style>\n",
              "  .colab-df-quickchart {\n",
              "      --bg-color: #E8F0FE;\n",
              "      --fill-color: #1967D2;\n",
              "      --hover-bg-color: #E2EBFA;\n",
              "      --hover-fill-color: #174EA6;\n",
              "      --disabled-fill-color: #AAA;\n",
              "      --disabled-bg-color: #DDD;\n",
              "  }\n",
              "\n",
              "  [theme=dark] .colab-df-quickchart {\n",
              "      --bg-color: #3B4455;\n",
              "      --fill-color: #D2E3FC;\n",
              "      --hover-bg-color: #434B5C;\n",
              "      --hover-fill-color: #FFFFFF;\n",
              "      --disabled-bg-color: #3B4455;\n",
              "      --disabled-fill-color: #666;\n",
              "  }\n",
              "\n",
              "  .colab-df-quickchart {\n",
              "    background-color: var(--bg-color);\n",
              "    border: none;\n",
              "    border-radius: 50%;\n",
              "    cursor: pointer;\n",
              "    display: none;\n",
              "    fill: var(--fill-color);\n",
              "    height: 32px;\n",
              "    padding: 0;\n",
              "    width: 32px;\n",
              "  }\n",
              "\n",
              "  .colab-df-quickchart:hover {\n",
              "    background-color: var(--hover-bg-color);\n",
              "    box-shadow: 0 1px 2px rgba(60, 64, 67, 0.3), 0 1px 3px 1px rgba(60, 64, 67, 0.15);\n",
              "    fill: var(--button-hover-fill-color);\n",
              "  }\n",
              "\n",
              "  .colab-df-quickchart-complete:disabled,\n",
              "  .colab-df-quickchart-complete:disabled:hover {\n",
              "    background-color: var(--disabled-bg-color);\n",
              "    fill: var(--disabled-fill-color);\n",
              "    box-shadow: none;\n",
              "  }\n",
              "\n",
              "  .colab-df-spinner {\n",
              "    border: 2px solid var(--fill-color);\n",
              "    border-color: transparent;\n",
              "    border-bottom-color: var(--fill-color);\n",
              "    animation:\n",
              "      spin 1s steps(1) infinite;\n",
              "  }\n",
              "\n",
              "  @keyframes spin {\n",
              "    0% {\n",
              "      border-color: transparent;\n",
              "      border-bottom-color: var(--fill-color);\n",
              "      border-left-color: var(--fill-color);\n",
              "    }\n",
              "    20% {\n",
              "      border-color: transparent;\n",
              "      border-left-color: var(--fill-color);\n",
              "      border-top-color: var(--fill-color);\n",
              "    }\n",
              "    30% {\n",
              "      border-color: transparent;\n",
              "      border-left-color: var(--fill-color);\n",
              "      border-top-color: var(--fill-color);\n",
              "      border-right-color: var(--fill-color);\n",
              "    }\n",
              "    40% {\n",
              "      border-color: transparent;\n",
              "      border-right-color: var(--fill-color);\n",
              "      border-top-color: var(--fill-color);\n",
              "    }\n",
              "    60% {\n",
              "      border-color: transparent;\n",
              "      border-right-color: var(--fill-color);\n",
              "    }\n",
              "    80% {\n",
              "      border-color: transparent;\n",
              "      border-right-color: var(--fill-color);\n",
              "      border-bottom-color: var(--fill-color);\n",
              "    }\n",
              "    90% {\n",
              "      border-color: transparent;\n",
              "      border-bottom-color: var(--fill-color);\n",
              "    }\n",
              "  }\n",
              "</style>\n",
              "\n",
              "  <script>\n",
              "    async function quickchart(key) {\n",
              "      const quickchartButtonEl =\n",
              "        document.querySelector('#' + key + ' button');\n",
              "      quickchartButtonEl.disabled = true;  // To prevent multiple clicks.\n",
              "      quickchartButtonEl.classList.add('colab-df-spinner');\n",
              "      try {\n",
              "        const charts = await google.colab.kernel.invokeFunction(\n",
              "            'suggestCharts', [key], {});\n",
              "      } catch (error) {\n",
              "        console.error('Error during call to suggestCharts:', error);\n",
              "      }\n",
              "      quickchartButtonEl.classList.remove('colab-df-spinner');\n",
              "      quickchartButtonEl.classList.add('colab-df-quickchart-complete');\n",
              "    }\n",
              "    (() => {\n",
              "      let quickchartButtonEl =\n",
              "        document.querySelector('#df-3b656ee9-b3e8-4563-810e-bf9906b61ec7 button');\n",
              "      quickchartButtonEl.style.display =\n",
              "        google.colab.kernel.accessAllowed ? 'block' : 'none';\n",
              "    })();\n",
              "  </script>\n",
              "</div>\n",
              "    </div>\n",
              "  </div>\n"
            ]
          },
          "metadata": {},
          "execution_count": 12
        }
      ]
    },
    {
      "cell_type": "code",
      "source": [
        "show_cols_mixed_dtypes(df)"
      ],
      "metadata": {
        "colab": {
          "base_uri": "https://localhost:8080/"
        },
        "id": "2o1gnn4qp7Cs",
        "outputId": "fc72ad52-1593-4c89-cddc-0e92ec86c58c"
      },
      "execution_count": 13,
      "outputs": [
        {
          "output_type": "stream",
          "name": "stdout",
          "text": [
            "None of the columns contain mixed types.\n"
          ]
        }
      ]
    },
    {
      "cell_type": "code",
      "source": [
        "def drop_duplicates(df):\n",
        "    old = df.shape[0]\n",
        "    df.drop_duplicates(inplace=True)\n",
        "    new = df.shape[0]\n",
        "    count = old - new\n",
        "    if (count == 0):\n",
        "        print(\"No duplicate rows were found.\")\n",
        "    else:\n",
        "        print(f\"{count} duplicate rows were found and removed.\")\n",
        "\n",
        "def plot_dist(df:pd.DataFrame, column:str, color:str='cornflowerblue')->None:\n",
        "    sns.displot(data=df, x=column, color=color,  kde=False, height=6, aspect=2)\n",
        "    plt.title(f'Distribution of {column}', size=20, fontweight='bold')\n",
        "    plt.show()\n",
        "\n",
        "def plotly_plot_bar(df, x, y, title=None, width=800, color=['cornflowerblue']):\n",
        "    if title == None:\n",
        "        title=f'Distribution of {x}'\n",
        "    fig = px.bar(df, x=x, y=y, title=title)\n",
        "    return Image(pio.to_image(fig, format='png', width=width))\n",
        "\n",
        "def plotly_plot_pie(df, column, title=None, width=800, limit=None):\n",
        "    a = pd.DataFrame({'count': df.groupby([column]).size()}).reset_index()\n",
        "    a = a.sort_values(\"count\", ascending=False)\n",
        "    if limit:\n",
        "        a.loc[a['count'] < limit, column] = f'Other {column}s'\n",
        "    if title == None:\n",
        "        title=f'Distribution of {column}'\n",
        "    fig = px.pie(a, values='count', names=column, title=title)\n",
        "    return Image(pio.to_image(fig, format='png', width=width))"
      ],
      "metadata": {
        "id": "Ay0uQ5w1s_lZ"
      },
      "execution_count": 14,
      "outputs": []
    },
    {
      "cell_type": "code",
      "source": [
        "drop_duplicates(df)"
      ],
      "metadata": {
        "colab": {
          "base_uri": "https://localhost:8080/"
        },
        "id": "-n8l5noX4Xca",
        "outputId": "4c2766fa-b9d2-49a6-f49d-ce0a0a06fd02"
      },
      "execution_count": 15,
      "outputs": [
        {
          "output_type": "stream",
          "name": "stdout",
          "text": [
            "383 duplicate rows were found and removed.\n"
          ]
        }
      ]
    },
    {
      "cell_type": "code",
      "source": [
        "print(df['VendorID'].nunique())\n",
        "print(df['tpep_pickup_datetime'].nunique())\n",
        "print(df['tpep_dropoff_datetime'].nunique())\n",
        "print(df['passenger_count'].nunique())\n",
        "print(df['trip_distance'].nunique())\n",
        "print(df['pickup_longitude'].nunique())\n",
        "print(df['pickup_latitude'].nunique())\n",
        "print(df['RateCodeID'].nunique())\n",
        "print(df['store_and_fwd_flag'].nunique())\n",
        "print(df['dropoff_longitude'].nunique())\n",
        "print(df['dropoff_latitude'].nunique())\n",
        "print(df['payment_type'].nunique())\n",
        "print(df['fare_amount'].nunique())\n",
        "print(df['extra'].nunique())\n",
        "print(df['mta_tax'].nunique())\n",
        "print(df['tip_amount'].nunique())\n",
        "print(df['tolls_amount'].nunique())\n",
        "print(df['improvement_surcharge'].nunique())\n",
        "print(df['total_amount'].nunique())"
      ],
      "metadata": {
        "colab": {
          "base_uri": "https://localhost:8080/"
        },
        "id": "T793kmKX7TNU",
        "outputId": "2862f14e-66ce-468d-bd2f-a57417b11cad"
      },
      "execution_count": null,
      "outputs": [
        {
          "output_type": "stream",
          "name": "stdout",
          "text": [
            "2\n",
            "2438284\n",
            "2442163\n",
            "10\n",
            "4350\n",
            "35900\n",
            "62748\n",
            "7\n",
            "2\n",
            "53297\n",
            "87523\n",
            "5\n",
            "2053\n",
            "55\n",
            "3\n",
            "3596\n",
            "932\n",
            "2\n",
            "11969\n"
          ]
        }
      ]
    },
    {
      "cell_type": "markdown",
      "source": [
        "# **Univariate Analysis**"
      ],
      "metadata": {
        "id": "flgUpU4m7ybC"
      }
    },
    {
      "cell_type": "markdown",
      "source": [
        "1. VendorID"
      ],
      "metadata": {
        "id": "BxYO-nGx-bIz"
      }
    },
    {
      "cell_type": "code",
      "source": [
        "# Create a count plot\n",
        "sns.countplot(x='VendorID', data=df)\n",
        "\n",
        "# Set labels and title\n",
        "plt.xlabel('VendorID')\n",
        "plt.ylabel('Count')\n",
        "plt.title('Distribution of VendorID')\n",
        "\n",
        "# Show the plot\n",
        "plt.show()\n",
        "\n"
      ],
      "metadata": {
        "colab": {
          "base_uri": "https://localhost:8080/",
          "height": 480
        },
        "id": "lgblqRh-79jB",
        "outputId": "f2e436f1-3818-434b-abee-b1ac38972361"
      },
      "execution_count": 16,
      "outputs": [
        {
          "output_type": "display_data",
          "data": {
            "text/plain": [
              "<Figure size 640x480 with 1 Axes>"
            ],
            "image/png": "[encoded data removed]"
          },
          "metadata": {}
        }
      ]
    },
    {
      "cell_type": "markdown",
      "source": [
        "We've observed that there are only two vendors (Vendor 1 and Vendor 2). Both vendors have nearly equal trip shares, with a minimal difference between them. However, Vendor 2 is noticeably more renowned among the population, as indicated by the graphs provided."
      ],
      "metadata": {
        "id": "JdznHD-67UdS"
      }
    },
    {
      "cell_type": "markdown",
      "source": [
        "2. Passengers"
      ],
      "metadata": {
        "id": "zwmvEcFq7tD9"
      }
    },
    {
      "cell_type": "code",
      "source": [
        "pd.options.display.float_format = '{:.2f}'.format #To suppress scientific notation.\n",
        "df.passenger_count.value_counts()"
      ],
      "metadata": {
        "colab": {
          "base_uri": "https://localhost:8080/"
        },
        "id": "18IYeCIR77s6",
        "outputId": "7228ae65-b7aa-4a76-81a1-b949cac922e1"
      },
      "execution_count": 29,
      "outputs": [
        {
          "output_type": "execute_result",
          "data": {
            "text/plain": [
              "1    8993507\n",
              "2    1814574\n",
              "5     697645\n",
              "3     528486\n",
              "6     454568\n",
              "4     253228\n",
              "0       6565\n",
              "9         11\n",
              "8         10\n",
              "7          9\n",
              "Name: passenger_count, dtype: int64"
            ]
          },
          "metadata": {},
          "execution_count": 29
        }
      ]
    },
    {
      "cell_type": "code",
      "source": [
        "sns.distplot(df['passenger_count'],kde=False)\n",
        "plt.title('Distribution of Passenger Count')\n",
        "plt.show()"
      ],
      "metadata": {
        "colab": {
          "base_uri": "https://localhost:8080/",
          "height": 671
        },
        "id": "gF5AcKjX73Q0",
        "outputId": "b76feb2c-429d-4afd-a467-7899b1b0b705"
      },
      "execution_count": 28,
      "outputs": [
        {
          "output_type": "stream",
          "name": "stderr",
          "text": [
            "<ipython-input-28-a5d4debf96bd>:1: UserWarning: \n",
            "\n",
            "`distplot` is a deprecated function and will be removed in seaborn v0.14.0.\n",
            "\n",
            "Please adapt your code to use either `displot` (a figure-level function with\n",
            "similar flexibility) or `histplot` (an axes-level function for histograms).\n",
            "\n",
            "For a guide to updating your code to use the new functions, please see\n",
            "https://gist.github.com/mwaskom/de44147ed2974457ad6372750bbe5751\n",
            "\n",
            "  sns.distplot(df['passenger_count'],kde=False)\n"
          ]
        },
        {
          "output_type": "display_data",
          "data": {
            "text/plain": [
              "<Figure size 640x480 with 1 Axes>"
            ],
            "image/png": "[encoded data removed]"
          },
          "metadata": {}
        }
      ]
    },
    {
      "cell_type": "markdown",
      "source": [
        "2. Duration of the travel"
      ],
      "metadata": {
        "id": "JIgwaQ1qzw2I"
      }
    },
    {
      "cell_type": "code",
      "source": [
        "# Convert the tpep_pickup_datetime and tpep_dropoff_datetime columns to datetime objects\n",
        "df['tpep_pickup_datetime'] = pd.to_datetime(df['tpep_pickup_datetime'])\n",
        "df['tpep_dropoff_datetime'] = pd.to_datetime(df['tpep_dropoff_datetime'])\n",
        "\n",
        "# Calculate the time difference and create a new column\n",
        "df['duration'] = df['tpep_dropoff_datetime'] - df['tpep_pickup_datetime']\n",
        "\n",
        "# Extract the duration in seconds, if needed\n",
        "df['duration_seconds'] = df['duration'].dt.total_seconds()\n",
        "\n",
        "# Display the DataFrame with the calculated duration\n",
        "print(df[['tpep_pickup_datetime', 'tpep_dropoff_datetime', 'duration']])\n"
      ],
      "metadata": {
        "colab": {
          "base_uri": "https://localhost:8080/"
        },
        "id": "rf6OmV2U79we",
        "outputId": "36a198b9-e7a6-4f19-c910-6b388555bd66"
      },
      "execution_count": 7,
      "outputs": [
        {
          "output_type": "stream",
          "name": "stdout",
          "text": [
            "         tpep_pickup_datetime tpep_dropoff_datetime        duration\n",
            "0         2015-01-15 19:05:39   2015-01-15 19:23:42 0 days 00:18:03\n",
            "1         2015-01-10 20:33:38   2015-01-10 20:53:28 0 days 00:19:50\n",
            "2         2015-01-10 20:33:38   2015-01-10 20:43:41 0 days 00:10:03\n",
            "3         2015-01-10 20:33:39   2015-01-10 20:35:31 0 days 00:01:52\n",
            "4         2015-01-10 20:33:39   2015-01-10 20:52:58 0 days 00:19:19\n",
            "...                       ...                   ...             ...\n",
            "12748981  2015-01-10 19:01:44   2015-01-10 19:05:40 0 days 00:03:56\n",
            "12748982  2015-01-10 19:01:44   2015-01-10 19:07:26 0 days 00:05:42\n",
            "12748983  2015-01-10 19:01:44   2015-01-10 19:15:01 0 days 00:13:17\n",
            "12748984  2015-01-10 19:01:44   2015-01-10 19:17:03 0 days 00:15:19\n",
            "12748985  2015-01-10 19:01:45   2015-01-10 19:07:33 0 days 00:05:48\n",
            "\n",
            "[12748986 rows x 3 columns]\n"
          ]
        }
      ]
    },
    {
      "cell_type": "code",
      "source": [
        "sns.distplot(df['duration'],kde=False)\n",
        "plt.title('The distribution of of the Pick Up  Duration distribution')"
      ],
      "metadata": {
        "colab": {
          "base_uri": "https://localhost:8080/",
          "height": 704
        },
        "id": "DEcnUx_EB3Bv",
        "outputId": "59714f9e-da2e-4f5d-dff6-348e5b632381"
      },
      "execution_count": 13,
      "outputs": [
        {
          "output_type": "stream",
          "name": "stderr",
          "text": [
            "<ipython-input-13-b5b5cc64f669>:1: UserWarning: \n",
            "\n",
            "`distplot` is a deprecated function and will be removed in seaborn v0.14.0.\n",
            "\n",
            "Please adapt your code to use either `displot` (a figure-level function with\n",
            "similar flexibility) or `histplot` (an axes-level function for histograms).\n",
            "\n",
            "For a guide to updating your code to use the new functions, please see\n",
            "https://gist.github.com/mwaskom/de44147ed2974457ad6372750bbe5751\n",
            "\n",
            "  sns.distplot(df['duration'],kde=False)\n"
          ]
        },
        {
          "output_type": "execute_result",
          "data": {
            "text/plain": [
              "Text(0.5, 1.0, 'The distribution of of the Pick Up  Duration distribution')"
            ]
          },
          "metadata": {},
          "execution_count": 13
        },
        {
          "output_type": "display_data",
          "data": {
            "text/plain": [
              "<Figure size 640x480 with 1 Axes>"
            ],
            "image/png": "[encoded data removed]"
          },
          "metadata": {}
        }
      ]
    },
    {
      "cell_type": "code",
      "source": [
        "df.dtypes"
      ],
      "metadata": {
        "colab": {
          "base_uri": "https://localhost:8080/"
        },
        "id": "xQ4C3wNlCYQP",
        "outputId": "23ccb58d-71ec-437d-e946-927997f6f95d"
      },
      "execution_count": 17,
      "outputs": [
        {
          "output_type": "execute_result",
          "data": {
            "text/plain": [
              "VendorID                           int64\n",
              "tpep_pickup_datetime      datetime64[ns]\n",
              "tpep_dropoff_datetime     datetime64[ns]\n",
              "passenger_count                    int64\n",
              "trip_distance                    float64\n",
              "pickup_longitude                 float64\n",
              "pickup_latitude                  float64\n",
              "RateCodeID                         int64\n",
              "store_and_fwd_flag                object\n",
              "dropoff_longitude                float64\n",
              "dropoff_latitude                 float64\n",
              "payment_type                       int64\n",
              "fare_amount                      float64\n",
              "extra                            float64\n",
              "mta_tax                          float64\n",
              "tip_amount                       float64\n",
              "tolls_amount                     float64\n",
              "improvement_surcharge            float64\n",
              "total_amount                     float64\n",
              "duration                 timedelta64[ns]\n",
              "duration_seconds                 float64\n",
              "pickup_day                        object\n",
              "dropoff_day                       object\n",
              "dtype: object"
            ]
          },
          "metadata": {},
          "execution_count": 17
        }
      ]
    },
    {
      "cell_type": "code",
      "source": [
        "sns.boxplot(df['duration_seconds'], orient='horizontal')\n",
        "plt.title('A boxplot depicting the pickup duration distribution')"
      ],
      "metadata": {
        "colab": {
          "base_uri": "https://localhost:8080/",
          "height": 493
        },
        "id": "5TzxO01iB_1R",
        "outputId": "70d510a6-eb9c-407f-dc35-f4838c629ff8"
      },
      "execution_count": 18,
      "outputs": [
        {
          "output_type": "execute_result",
          "data": {
            "text/plain": [
              "Text(0.5, 1.0, 'A boxplot depicting the pickup duration distribution')"
            ]
          },
          "metadata": {},
          "execution_count": 18
        },
        {
          "output_type": "display_data",
          "data": {
            "text/plain": [
              "<Figure size 640x480 with 1 Axes>"
            ],
            "image/png": "[encoded data removed]"
          },
          "metadata": {}
        }
      ]
    },
    {
      "cell_type": "code",
      "source": [
        "\n",
        "print( df['duration_seconds'].nlargest(10))\n"
      ],
      "metadata": {
        "colab": {
          "base_uri": "https://localhost:8080/"
        },
        "id": "BrhD7Psm_CyM",
        "outputId": "ef86582d-87b2-42d3-baeb-2152c153b008"
      },
      "execution_count": 20,
      "outputs": [
        {
          "output_type": "stream",
          "name": "stdout",
          "text": [
            "2526363     32913338.0\n",
            "2526362     32911853.0\n",
            "2479740     32909576.0\n",
            "2479739     32909274.0\n",
            "2479738     32909001.0\n",
            "2479737     32908258.0\n",
            "2479736     32906498.0\n",
            "2479735     32905773.0\n",
            "2479734     32904619.0\n",
            "12395109    32836502.0\n",
            "Name: duration_seconds, dtype: float64\n"
          ]
        }
      ]
    },
    {
      "cell_type": "code",
      "source": [
        "df.duration_seconds.groupby(pd.cut(df.duration_seconds, np.arange(1,max(df.duration_seconds),3600))).count()"
      ],
      "metadata": {
        "colab": {
          "base_uri": "https://localhost:8080/"
        },
        "id": "We5cyrzYDUfu",
        "outputId": "888c7b69-0a0a-4a44-e4f0-6b134c12faaa"
      },
      "execution_count": 23,
      "outputs": [
        {
          "output_type": "execute_result",
          "data": {
            "text/plain": [
              "duration_seconds\n",
              "(1.0, 3601.0]               12684512\n",
              "(3601.0, 7201.0]               36666\n",
              "(7201.0, 10801.0]               1047\n",
              "(10801.0, 14401.0]               350\n",
              "(14401.0, 18001.0]               151\n",
              "                              ...   \n",
              "(32893201.0, 32896801.0]           0\n",
              "(32896801.0, 32900401.0]           0\n",
              "(32900401.0, 32904001.0]           0\n",
              "(32904001.0, 32907601.0]           3\n",
              "(32907601.0, 32911201.0]           4\n",
              "Name: duration_seconds, Length: 9142, dtype: int64"
            ]
          },
          "metadata": {},
          "execution_count": 23
        }
      ]
    },
    {
      "cell_type": "code",
      "source": [
        "df.duration_seconds.groupby(pd.cut(df.duration_seconds, np.arange(1,7200,600))).count().plot(kind='barh',figsize = (18,5))\n",
        "plt.title('Trip Duration')\n",
        "plt.xlabel('Trip Counts')\n",
        "plt.ylabel('Trip Duration (seconds)')\n",
        "plt.show()"
      ],
      "metadata": {
        "colab": {
          "base_uri": "https://localhost:8080/",
          "height": 299
        },
        "id": "IK5s7N29EOoB",
        "outputId": "10e24328-4cab-4de1-f95b-c6cd1e9ddd1f"
      },
      "execution_count": 24,
      "outputs": [
        {
          "output_type": "display_data",
          "data": {
            "text/plain": [
              "<Figure size 1800x500 with 1 Axes>"
            ],
            "image/png": "[encoded data removed]"
          },
          "metadata": {}
        }
      ]
    },
    {
      "cell_type": "markdown",
      "source": [
        "3. The distribution of Pickup and Drop Off day of the week"
      ],
      "metadata": {
        "id": "CtG9S5Bs9OpD"
      }
    },
    {
      "cell_type": "code",
      "source": [
        "df['pickup_day']=df['tpep_pickup_datetime'].dt.day_name()\n",
        "df['dropoff_day']=df['tpep_dropoff_datetime'].dt.day_name()"
      ],
      "metadata": {
        "id": "kWAKqTBqC5dy"
      },
      "execution_count": 8,
      "outputs": []
    },
    {
      "cell_type": "code",
      "source": [
        "df['pickup_day'].value_counts()"
      ],
      "metadata": {
        "colab": {
          "base_uri": "https://localhost:8080/"
        },
        "id": "4RlEoPUREyH2",
        "outputId": "86a2c8bc-4af7-43d9-ae44-681c2862bd69"
      },
      "execution_count": 21,
      "outputs": [
        {
          "output_type": "execute_result",
          "data": {
            "text/plain": [
              "Saturday     2379707\n",
              "Friday       2227157\n",
              "Thursday     2168213\n",
              "Wednesday    1683789\n",
              "Sunday       1583098\n",
              "Tuesday      1373922\n",
              "Monday       1332717\n",
              "Name: pickup_day, dtype: int64"
            ]
          },
          "metadata": {},
          "execution_count": 21
        }
      ]
    },
    {
      "cell_type": "code",
      "source": [
        "df['dropoff_day'].value_counts()"
      ],
      "metadata": {
        "colab": {
          "base_uri": "https://localhost:8080/"
        },
        "id": "8SKpHarNFB5G",
        "outputId": "e2ae11c4-00c6-457e-ca7b-7042d141beef"
      },
      "execution_count": 22,
      "outputs": [
        {
          "output_type": "execute_result",
          "data": {
            "text/plain": [
              "Saturday     2378985\n",
              "Friday       2216789\n",
              "Thursday     2160689\n",
              "Wednesday    1681098\n",
              "Sunday       1604381\n",
              "Tuesday      1371308\n",
              "Monday       1335353\n",
              "Name: dropoff_day, dtype: int64"
            ]
          },
          "metadata": {},
          "execution_count": 22
        }
      ]
    },
    {
      "cell_type": "markdown",
      "source": [
        "***Most trips were taken on Saturday***"
      ],
      "metadata": {
        "id": "OVnHgwLzFGJT"
      }
    },
    {
      "cell_type": "code",
      "source": [
        "figure,ax=plt.subplots(nrows=2,ncols=1,figsize=(10,10))\n",
        "sns.countplot(x='pickup_day',data=df,ax=ax[0])\n",
        "ax[0].set_title('Number of Pickups done on each day of the week')\n",
        "sns.countplot(x='dropoff_day',data=df,ax=ax[1])\n",
        "ax[1].set_title('Number of dropoffs done on each day of the week')\n",
        "plt.tight_layout()"
      ],
      "metadata": {
        "colab": {
          "base_uri": "https://localhost:8080/",
          "height": 928
        },
        "id": "mdTxwdQpFCED",
        "outputId": "abc8283e-6550-4088-96c9-a940391c70cd"
      },
      "execution_count": 30,
      "outputs": [
        {
          "output_type": "display_data",
          "data": {
            "text/plain": [
              "<Figure size 1000x1000 with 2 Axes>"
            ],
            "image/png": "[encoded data removed]"
          },
          "metadata": {}
        }
      ]
    },
    {
      "cell_type": "markdown",
      "source": [
        "4. The distribution of Pickup and Drop Off hours of the day"
      ],
      "metadata": {
        "id": "R7x_wswE9UyL"
      }
    },
    {
      "cell_type": "code",
      "source": [
        "def timezone(x):\n",
        "    if x>=datetime.time(4, 0, 1) and x <=datetime.time(11, 0, 0):\n",
        "        return 'morning'\n",
        "    elif x>=datetime.time(11, 0, 1) and x <=datetime.time(16, 0, 0):\n",
        "        return 'midday'\n",
        "    elif x>=datetime.time(16, 0, 1) and x <=datetime.time(22, 0, 0):\n",
        "        return 'evening'\n",
        "    elif x>=datetime.time(22, 0, 1) or x <=datetime.time(4, 0, 0):\n",
        "        return 'late night'\n",
        "\n",
        "df['pickup_timezone']=df['tpep_pickup_datetime'].apply(lambda x :timezone(datetime.datetime.strptime(str(x), \"%Y-%m-%d %H:%M:%S\").time()) )\n",
        "df['dropoff_timezone']=df['tpep_dropoff_datetime'].apply(lambda x :timezone(datetime.datetime.strptime(str(x), \"%Y-%m-%d %H:%M:%S\").time()) )"
      ],
      "metadata": {
        "id": "ualCz8LgFCH5"
      },
      "execution_count": 26,
      "outputs": []
    },
    {
      "cell_type": "code",
      "source": [
        "figure,ax=plt.subplots(nrows=1,ncols=2,figsize=(10,5))\n",
        "sns.countplot(x='pickup_timezone',data=df,ax=ax[0])\n",
        "ax[0].set_title('The distribution of number of pickups on each part of the day')\n",
        "sns.countplot(x='dropoff_timezone',data=df,ax=ax[1])\n",
        "ax[1].set_title('The distribution of number of dropoffs on each part of the day')\n",
        "plt.tight_layout()"
      ],
      "metadata": {
        "colab": {
          "base_uri": "https://localhost:8080/",
          "height": 446
        },
        "id": "iTYKfmKRFCLJ",
        "outputId": "300d9889-914c-45c7-f367-b5fd0065ad4c"
      },
      "execution_count": 27,
      "outputs": [
        {
          "output_type": "display_data",
          "data": {
            "text/plain": [
              "<Figure size 1000x500 with 2 Axes>"
            ],
            "image/png": "[encoded data removed]"
          },
          "metadata": {}
        }
      ]
    },
    {
      "cell_type": "code",
      "source": [
        "figure,ax=plt.subplots(nrows=1,ncols=2,figsize=(10,5))\n",
        "df['pickup_hour']=df['tpep_pickup_datetime'].dt.hour\n",
        "df.pickup_hour.hist(bins=24,ax=ax[0])\n",
        "ax[0].set_title('Distribution of pickup hours')\n",
        "df['dropoff_hour']=df['tpep_dropoff_datetime'].dt.hour\n",
        "df.dropoff_hour.hist(bins=24,ax=ax[1])\n",
        "ax[1].set_title('Distribution of dropoff hours')"
      ],
      "metadata": {
        "colab": {
          "base_uri": "https://localhost:8080/",
          "height": 485
        },
        "id": "1BGv8gMM2gcc",
        "outputId": "68793752-382f-43b8-81b4-48e089cb455c"
      },
      "execution_count": null,
      "outputs": [
        {
          "output_type": "execute_result",
          "data": {
            "text/plain": [
              "Text(0.5, 1.0, 'Distribution of dropoff hours')"
            ]
          },
          "metadata": {},
          "execution_count": 9
        },
        {
          "output_type": "display_data",
          "data": {
            "text/plain": [
              "<Figure size 1000x500 with 2 Axes>"
            ],
            "image/png": "[encoded data removed]"
          },
          "metadata": {}
        }
      ]
    },
    {
      "cell_type": "markdown",
      "source": [
        "5. Distribution of the stored and forward flag\n",
        "\n"
      ],
      "metadata": {
        "id": "nD28IAKT26qk"
      }
    },
    {
      "cell_type": "code",
      "source": [
        "df['store_and_fwd_flag'].value_counts()"
      ],
      "metadata": {
        "colab": {
          "base_uri": "https://localhost:8080/"
        },
        "id": "kRzOlCkq21lS",
        "outputId": "f052161e-fe2b-4bc0-f7a9-e7d6df42f8f3"
      },
      "execution_count": 34,
      "outputs": [
        {
          "output_type": "execute_result",
          "data": {
            "text/plain": [
              "N    12633570\n",
              "Y      115033\n",
              "Name: store_and_fwd_flag, dtype: int64"
            ]
          },
          "metadata": {},
          "execution_count": 34
        }
      ]
    },
    {
      "cell_type": "code",
      "source": [
        "# Plotting the value counts\n",
        "\n",
        "df['store_and_fwd_flag'].value_counts().plot(kind='bar', color='skyblue')\n",
        "plt.title('Value Counts of store_and_fwd_flag')\n",
        "plt.xlabel('store_and_fwd_flag')\n",
        "plt.ylabel('Count')\n",
        "plt.show()\n"
      ],
      "metadata": {
        "colab": {
          "base_uri": "https://localhost:8080/",
          "height": 477
        },
        "id": "F3n1XQ_P-Kvu",
        "outputId": "15c7126f-4332-472a-bffc-abb5da75e71c"
      },
      "execution_count": 25,
      "outputs": [
        {
          "output_type": "display_data",
          "data": {
            "text/plain": [
              "<Figure size 640x480 with 1 Axes>"
            ],
            "image/png": "[encoded data removed]"
          },
          "metadata": {}
        }
      ]
    },
    {
      "cell_type": "markdown",
      "source": [
        "6. Distribution of Longitude and Latitude"
      ],
      "metadata": {
        "id": "ZoZECFTO-plL"
      }
    },
    {
      "cell_type": "code",
      "source": [
        "sns.distplot(df['dropoff_longitude'])\n",
        "plt.title('The distribution of Drop off Longitude')"
      ],
      "metadata": {
        "colab": {
          "base_uri": "https://localhost:8080/",
          "height": 688
        },
        "id": "hGtsvtLF21u5",
        "outputId": "88ca5b5f-ce2d-4d00-c3e4-54d61ea508c0"
      },
      "execution_count": 26,
      "outputs": [
        {
          "output_type": "stream",
          "name": "stderr",
          "text": [
            "<ipython-input-26-33214a320c3f>:1: UserWarning: \n",
            "\n",
            "`distplot` is a deprecated function and will be removed in seaborn v0.14.0.\n",
            "\n",
            "Please adapt your code to use either `displot` (a figure-level function with\n",
            "similar flexibility) or `histplot` (an axes-level function for histograms).\n",
            "\n",
            "For a guide to updating your code to use the new functions, please see\n",
            "https://gist.github.com/mwaskom/de44147ed2974457ad6372750bbe5751\n",
            "\n",
            "  sns.distplot(df['dropoff_longitude'])\n"
          ]
        },
        {
          "output_type": "execute_result",
          "data": {
            "text/plain": [
              "Text(0.5, 1.0, 'The distribution of Drop off Longitude')"
            ]
          },
          "metadata": {},
          "execution_count": 26
        },
        {
          "output_type": "display_data",
          "data": {
            "text/plain": [
              "<Figure size 640x480 with 1 Axes>"
            ],
            "image/png": "[encoded data removed]"
          },
          "metadata": {}
        }
      ]
    },
    {
      "cell_type": "code",
      "source": [
        "sns.distplot(df['pickup_longitude'])\n",
        "plt.title('The distribution of Pick up Longitude')"
      ],
      "metadata": {
        "colab": {
          "base_uri": "https://localhost:8080/",
          "height": 688
        },
        "id": "nU9HtE2D213L",
        "outputId": "9896e00a-6365-4f3a-8017-83bc5c6e58f0"
      },
      "execution_count": 27,
      "outputs": [
        {
          "output_type": "stream",
          "name": "stderr",
          "text": [
            "<ipython-input-27-6cdf7dc0ad5f>:1: UserWarning: \n",
            "\n",
            "`distplot` is a deprecated function and will be removed in seaborn v0.14.0.\n",
            "\n",
            "Please adapt your code to use either `displot` (a figure-level function with\n",
            "similar flexibility) or `histplot` (an axes-level function for histograms).\n",
            "\n",
            "For a guide to updating your code to use the new functions, please see\n",
            "https://gist.github.com/mwaskom/de44147ed2974457ad6372750bbe5751\n",
            "\n",
            "  sns.distplot(df['pickup_longitude'])\n"
          ]
        },
        {
          "output_type": "execute_result",
          "data": {
            "text/plain": [
              "Text(0.5, 1.0, 'The distribution of Pick up Longitude')"
            ]
          },
          "metadata": {},
          "execution_count": 27
        },
        {
          "output_type": "display_data",
          "data": {
            "text/plain": [
              "<Figure size 640x480 with 1 Axes>"
            ],
            "image/png": "[encoded data removed]"
          },
          "metadata": {}
        }
      ]
    },
    {
      "cell_type": "code",
      "source": [
        "sns.distplot(df['dropoff_latitude'])\n",
        "plt.title('The distribution of drop off Latitude')"
      ],
      "metadata": {
        "colab": {
          "base_uri": "https://localhost:8080/",
          "height": 680
        },
        "id": "Kq3w6gCJ5J_n",
        "outputId": "739cf551-e427-4a50-9d90-78ebc9cfd15f"
      },
      "execution_count": null,
      "outputs": [
        {
          "output_type": "stream",
          "name": "stderr",
          "text": [
            "<ipython-input-15-7d9851bce4a5>:1: UserWarning: \n",
            "\n",
            "`distplot` is a deprecated function and will be removed in seaborn v0.14.0.\n",
            "\n",
            "Please adapt your code to use either `displot` (a figure-level function with\n",
            "similar flexibility) or `histplot` (an axes-level function for histograms).\n",
            "\n",
            "For a guide to updating your code to use the new functions, please see\n",
            "https://gist.github.com/mwaskom/de44147ed2974457ad6372750bbe5751\n",
            "\n",
            "  sns.distplot(df['dropoff_latitude'])\n"
          ]
        },
        {
          "output_type": "execute_result",
          "data": {
            "text/plain": [
              "Text(0.5, 1.0, 'The distribution of drop off Latitude')"
            ]
          },
          "metadata": {},
          "execution_count": 15
        },
        {
          "output_type": "display_data",
          "data": {
            "text/plain": [
              "<Figure size 640x480 with 1 Axes>"
            ],
            "image/png": "[encoded data removed]"
          },
          "metadata": {}
        }
      ]
    },
    {
      "cell_type": "code",
      "source": [
        "sns.distplot(df['pickup_latitude'])\n",
        "plt.title('The distribution of pick up Latitude')\n",
        "\n"
      ],
      "metadata": {
        "colab": {
          "base_uri": "https://localhost:8080/",
          "height": 680
        },
        "id": "UPWrTtta5fSP",
        "outputId": "f14748d7-a162-46d6-e7bd-acb3ca130998"
      },
      "execution_count": null,
      "outputs": [
        {
          "output_type": "stream",
          "name": "stderr",
          "text": [
            "<ipython-input-16-0c9c08505afb>:1: UserWarning: \n",
            "\n",
            "`distplot` is a deprecated function and will be removed in seaborn v0.14.0.\n",
            "\n",
            "Please adapt your code to use either `displot` (a figure-level function with\n",
            "similar flexibility) or `histplot` (an axes-level function for histograms).\n",
            "\n",
            "For a guide to updating your code to use the new functions, please see\n",
            "https://gist.github.com/mwaskom/de44147ed2974457ad6372750bbe5751\n",
            "\n",
            "  sns.distplot(df['pickup_latitude'])\n"
          ]
        },
        {
          "output_type": "execute_result",
          "data": {
            "text/plain": [
              "Text(0.5, 1.0, 'The distribution of pick up Latitude')"
            ]
          },
          "metadata": {},
          "execution_count": 16
        },
        {
          "output_type": "display_data",
          "data": {
            "text/plain": [
              "<Figure size 640x480 with 1 Axes>"
            ],
            "image/png": "[encoded data removed]"
          },
          "metadata": {}
        }
      ]
    },
    {
      "cell_type": "code",
      "source": [
        "# Create a new column 'trip_duration_category' based on duration\n",
        "df['duration_category'] = pd.cut(df['duration'].dt.total_seconds(), bins=[0, 1800, 3600, 5400, 7200, 90000], labels=[\"< 5\", \"5-10\", \"10-15\", \"15-20\", \">20\"])\n",
        "\n",
        "# Display the DataFrame with the new category column\n",
        "print(df[['tpep_pickup_datetime', 'tpep_dropoff_datetime', 'duration', 'duration_category']])\n"
      ],
      "metadata": {
        "colab": {
          "base_uri": "https://localhost:8080/"
        },
        "id": "M90Gdcx-6r6L",
        "outputId": "b490333d-35b6-4f6c-fcbb-2c5dfe1842da"
      },
      "execution_count": 41,
      "outputs": [
        {
          "output_type": "stream",
          "name": "stdout",
          "text": [
            "         tpep_pickup_datetime tpep_dropoff_datetime        duration  \\\n",
            "0         2015-01-15 19:05:39   2015-01-15 19:23:42 0 days 00:18:03   \n",
            "1         2015-01-10 20:33:38   2015-01-10 20:53:28 0 days 00:19:50   \n",
            "2         2015-01-10 20:33:38   2015-01-10 20:43:41 0 days 00:10:03   \n",
            "3         2015-01-10 20:33:39   2015-01-10 20:35:31 0 days 00:01:52   \n",
            "4         2015-01-10 20:33:39   2015-01-10 20:52:58 0 days 00:19:19   \n",
            "...                       ...                   ...             ...   \n",
            "12748981  2015-01-10 19:01:44   2015-01-10 19:05:40 0 days 00:03:56   \n",
            "12748982  2015-01-10 19:01:44   2015-01-10 19:07:26 0 days 00:05:42   \n",
            "12748983  2015-01-10 19:01:44   2015-01-10 19:15:01 0 days 00:13:17   \n",
            "12748984  2015-01-10 19:01:44   2015-01-10 19:17:03 0 days 00:15:19   \n",
            "12748985  2015-01-10 19:01:45   2015-01-10 19:07:33 0 days 00:05:48   \n",
            "\n",
            "         duration_category  \n",
            "0                      < 5  \n",
            "1                      < 5  \n",
            "2                      < 5  \n",
            "3                      < 5  \n",
            "4                      < 5  \n",
            "...                    ...  \n",
            "12748981               < 5  \n",
            "12748982               < 5  \n",
            "12748983               < 5  \n",
            "12748984               < 5  \n",
            "12748985               < 5  \n",
            "\n",
            "[12748603 rows x 4 columns]\n"
          ]
        }
      ]
    },
    {
      "cell_type": "code",
      "source": [
        "# Print unique values in 'payment_type'\n",
        "print(df['payment_type'].unique())\n",
        "\n",
        "# Create a count plot\n",
        "sns.countplot(x='payment_type', data=df)\n",
        "\n",
        "# Set labels and title\n",
        "plt.xlabel('Payment Type')\n",
        "plt.ylabel('Count')\n",
        "plt.title('Distribution of Payment Types')\n",
        "\n",
        "# Show the plot\n",
        "plt.show()\n"
      ],
      "metadata": {
        "colab": {
          "base_uri": "https://localhost:8080/",
          "height": 497
        },
        "id": "m7RnEdIHAaK6",
        "outputId": "2c25bc8f-65f1-4f7a-e59b-760453f7feaf"
      },
      "execution_count": 29,
      "outputs": [
        {
          "output_type": "stream",
          "name": "stdout",
          "text": [
            "[1 2 3 4 5]\n"
          ]
        },
        {
          "output_type": "display_data",
          "data": {
            "text/plain": [
              "<Figure size 640x480 with 1 Axes>"
            ],
            "image/png": "[encoded data removed]"
          },
          "metadata": {}
        }
      ]
    },
    {
      "cell_type": "code",
      "source": [
        "import pandas as pd\n",
        "\n",
        "# Assuming df is your DataFrame\n",
        "index_to_remove = 10862961\n",
        "\n",
        "# Drop the row in place\n",
        "df.drop(index_to_remove, inplace=True)\n",
        "\n",
        "# Now, df does not contain the row with index 10862961\n"
      ],
      "metadata": {
        "id": "hr2Q23QrKyWW"
      },
      "execution_count": 9,
      "outputs": []
    },
    {
      "cell_type": "code",
      "source": [
        "\n",
        "# Assuming df is your DataFrame and 'total_amount' is the column of interest\n",
        "sorted_df = df.sort_values(by='total_amount', ascending=False)\n",
        "\n",
        "# Select the top 10 rows\n",
        "top_10 = sorted_df.head(10)\n",
        "\n",
        "\n",
        "plt.figure(figsize=(10, 6))\n",
        "plt.bar(range(1, 11), top_10['total_amount'], color='blue')\n",
        "plt.xlabel('Top 10 Rows')\n",
        "plt.ylabel('Total Amount')\n",
        "plt.title('Top 10 Items by Total Amount')\n",
        "plt.xticks(range(1, 11))  # Use integers for x-axis labels\n",
        "plt.show()"
      ],
      "metadata": {
        "colab": {
          "base_uri": "https://localhost:8080/",
          "height": 573
        },
        "id": "44qjuLMIHpfV",
        "outputId": "7da7c9c5-9ebd-4599-b65b-c487cccfe6df"
      },
      "execution_count": 10,
      "outputs": [
        {
          "output_type": "display_data",
          "data": {
            "text/plain": [
              "<Figure size 1000x600 with 1 Axes>"
            ],
            "image/png": "[encoded data removed]"
          },
          "metadata": {}
        }
      ]
    },
    {
      "cell_type": "code",
      "source": [
        "top_10"
      ],
      "metadata": {
        "colab": {
          "base_uri": "https://localhost:8080/",
          "height": 383
        },
        "id": "ofv_YiJeJVFm",
        "outputId": "06cfa204-6437-4cb8-def8-4c85b5320792"
      },
      "execution_count": 11,
      "outputs": [
        {
          "output_type": "execute_result",
          "data": {
            "text/plain": [
              "          VendorID tpep_pickup_datetime tpep_dropoff_datetime  \\\n",
              "12477051         1  2015-01-22 21:12:26   2015-01-22 21:20:36   \n",
              "1851068          2  2015-01-02 20:06:34   2015-01-02 20:23:33   \n",
              "3590037          2  2015-01-23 11:15:00   2015-01-23 11:15:00   \n",
              "3353313          2  2015-01-30 12:10:00   2015-01-30 12:10:00   \n",
              "6484239          1  2015-01-09 17:42:08   2015-01-09 17:43:29   \n",
              "12664616         1  2015-01-12 01:41:43   2015-01-12 01:42:32   \n",
              "5189604          1  2015-01-06 18:27:38   2015-01-06 19:04:04   \n",
              "738651           1  2015-01-07 13:00:53   2015-01-07 13:02:30   \n",
              "10141593         1  2015-01-17 05:54:37   2015-02-02 18:34:38   \n",
              "11519477         2  2015-01-06 14:47:00   2015-01-06 14:47:00   \n",
              "\n",
              "          passenger_count  trip_distance  pickup_longitude  pickup_latitude  \\\n",
              "12477051                1            1.7        -73.961533        40.770638   \n",
              "1851068                 1            0.4        -74.014336        40.711857   \n",
              "3590037                 1            0.0          0.000000         0.000000   \n",
              "3353313                 1            0.0          0.000000         0.000000   \n",
              "6484239                 4            0.0        -73.591827        40.685993   \n",
              "12664616                4            0.0        -73.591759        40.685711   \n",
              "5189604                 2           18.5          0.000000         0.000000   \n",
              "738651                  4            0.0        -73.591835        40.686081   \n",
              "10141593                4            0.0        -73.811417        40.691956   \n",
              "11519477                1            0.0          0.000000         0.000000   \n",
              "\n",
              "          RateCodeID store_and_fwd_flag  dropoff_longitude  dropoff_latitude  \\\n",
              "12477051           1                  N         -73.978508         40.749516   \n",
              "1851068            1                  N         -73.985191         40.760464   \n",
              "3590037            5                  N           0.000000          0.000000   \n",
              "3353313            5                  N           0.000000          0.000000   \n",
              "6484239            5                  N         -73.591827         40.685997   \n",
              "12664616           5                  N         -73.591759         40.685711   \n",
              "5189604            2                  N           0.000000          0.000000   \n",
              "738651             5                  N         -73.591858         40.686069   \n",
              "10141593           5                  N         -73.811417         40.691952   \n",
              "11519477           5                  N           0.000000          0.000000   \n",
              "\n",
              "          payment_type  fare_amount   extra  mta_tax  tip_amount  \\\n",
              "12477051             2      4008.00    0.50      0.5         0.0   \n",
              "1851068              2      3005.50    0.05      0.5         0.0   \n",
              "3590037              1       999.99  999.99      0.0         0.0   \n",
              "3353313              1       821.00    0.00      0.0         0.0   \n",
              "6484239              1       965.00    0.00      0.0       550.0   \n",
              "12664616             1       978.00    0.00      0.0       569.0   \n",
              "5189604              2        52.00    0.00      0.5         0.0   \n",
              "738651               1       949.99    0.00      0.0       551.0   \n",
              "10141593             1       965.00    0.00      0.0       534.7   \n",
              "11519477             1       999.99  445.87      0.0         0.0   \n",
              "\n",
              "          tolls_amount  improvement_surcharge  total_amount  \n",
              "12477051          0.00                    0.3       4009.30  \n",
              "1851068           0.00                    0.3       3006.35  \n",
              "3590037         999.99                    0.0       2999.97  \n",
              "3353313         999.99                    0.0       1820.99  \n",
              "6484239          59.00                    0.3       1574.30  \n",
              "12664616          0.00                    0.3       1547.30  \n",
              "5189604        1450.09                    0.3       1502.89  \n",
              "738651            0.00                    0.3       1501.29  \n",
              "10141593          0.00                    0.3       1500.00  \n",
              "11519477          0.00                    0.0       1445.86  "
            ],
            "text/html": [
              "\n",
              "  <div id=\"df-2dd0232a-c573-4fcd-bb3e-28771829ec3f\" class=\"colab-df-container\">\n",
              "    <div>\n",
              "<style scoped>\n",
              "    .dataframe tbody tr th:only-of-type {\n",
              "        vertical-align: middle;\n",
              "    }\n",
              "\n",
              "    .dataframe tbody tr th {\n",
              "        vertical-align: top;\n",
              "    }\n",
              "\n",
              "    .dataframe thead th {\n",
              "        text-align: right;\n",
              "    }\n",
              "</style>\n",
              "<table border=\"1\" class=\"dataframe\">\n",
              "  <thead>\n",
              "    <tr style=\"text-align: right;\">\n",
              "      <th></th>\n",
              "      <th>VendorID</th>\n",
              "      <th>tpep_pickup_datetime</th>\n",
              "      <th>tpep_dropoff_datetime</th>\n",
              "      <th>passenger_count</th>\n",
              "      <th>trip_distance</th>\n",
              "      <th>pickup_longitude</th>\n",
              "      <th>pickup_latitude</th>\n",
              "      <th>RateCodeID</th>\n",
              "      <th>store_and_fwd_flag</th>\n",
              "      <th>dropoff_longitude</th>\n",
              "      <th>dropoff_latitude</th>\n",
              "      <th>payment_type</th>\n",
              "      <th>fare_amount</th>\n",
              "      <th>extra</th>\n",
              "      <th>mta_tax</th>\n",
              "      <th>tip_amount</th>\n",
              "      <th>tolls_amount</th>\n",
              "      <th>improvement_surcharge</th>\n",
              "      <th>total_amount</th>\n",
              "    </tr>\n",
              "  </thead>\n",
              "  <tbody>\n",
              "    <tr>\n",
              "      <th>12477051</th>\n",
              "      <td>1</td>\n",
              "      <td>2015-01-22 21:12:26</td>\n",
              "      <td>2015-01-22 21:20:36</td>\n",
              "      <td>1</td>\n",
              "      <td>1.7</td>\n",
              "      <td>-73.961533</td>\n",
              "      <td>40.770638</td>\n",
              "      <td>1</td>\n",
              "      <td>N</td>\n",
              "      <td>-73.978508</td>\n",
              "      <td>40.749516</td>\n",
              "      <td>2</td>\n",
              "      <td>4008.00</td>\n",
              "      <td>0.50</td>\n",
              "      <td>0.5</td>\n",
              "      <td>0.0</td>\n",
              "      <td>0.00</td>\n",
              "      <td>0.3</td>\n",
              "      <td>4009.30</td>\n",
              "    </tr>\n",
              "    <tr>\n",
              "      <th>1851068</th>\n",
              "      <td>2</td>\n",
              "      <td>2015-01-02 20:06:34</td>\n",
              "      <td>2015-01-02 20:23:33</td>\n",
              "      <td>1</td>\n",
              "      <td>0.4</td>\n",
              "      <td>-74.014336</td>\n",
              "      <td>40.711857</td>\n",
              "      <td>1</td>\n",
              "      <td>N</td>\n",
              "      <td>-73.985191</td>\n",
              "      <td>40.760464</td>\n",
              "      <td>2</td>\n",
              "      <td>3005.50</td>\n",
              "      <td>0.05</td>\n",
              "      <td>0.5</td>\n",
              "      <td>0.0</td>\n",
              "      <td>0.00</td>\n",
              "      <td>0.3</td>\n",
              "      <td>3006.35</td>\n",
              "    </tr>\n",
              "    <tr>\n",
              "      <th>3590037</th>\n",
              "      <td>2</td>\n",
              "      <td>2015-01-23 11:15:00</td>\n",
              "      <td>2015-01-23 11:15:00</td>\n",
              "      <td>1</td>\n",
              "      <td>0.0</td>\n",
              "      <td>0.000000</td>\n",
              "      <td>0.000000</td>\n",
              "      <td>5</td>\n",
              "      <td>N</td>\n",
              "      <td>0.000000</td>\n",
              "      <td>0.000000</td>\n",
              "      <td>1</td>\n",
              "      <td>999.99</td>\n",
              "      <td>999.99</td>\n",
              "      <td>0.0</td>\n",
              "      <td>0.0</td>\n",
              "      <td>999.99</td>\n",
              "      <td>0.0</td>\n",
              "      <td>2999.97</td>\n",
              "    </tr>\n",
              "    <tr>\n",
              "      <th>3353313</th>\n",
              "      <td>2</td>\n",
              "      <td>2015-01-30 12:10:00</td>\n",
              "      <td>2015-01-30 12:10:00</td>\n",
              "      <td>1</td>\n",
              "      <td>0.0</td>\n",
              "      <td>0.000000</td>\n",
              "      <td>0.000000</td>\n",
              "      <td>5</td>\n",
              "      <td>N</td>\n",
              "      <td>0.000000</td>\n",
              "      <td>0.000000</td>\n",
              "      <td>1</td>\n",
              "      <td>821.00</td>\n",
              "      <td>0.00</td>\n",
              "      <td>0.0</td>\n",
              "      <td>0.0</td>\n",
              "      <td>999.99</td>\n",
              "      <td>0.0</td>\n",
              "      <td>1820.99</td>\n",
              "    </tr>\n",
              "    <tr>\n",
              "      <th>6484239</th>\n",
              "      <td>1</td>\n",
              "      <td>2015-01-09 17:42:08</td>\n",
              "      <td>2015-01-09 17:43:29</td>\n",
              "      <td>4</td>\n",
              "      <td>0.0</td>\n",
              "      <td>-73.591827</td>\n",
              "      <td>40.685993</td>\n",
              "      <td>5</td>\n",
              "      <td>N</td>\n",
              "      <td>-73.591827</td>\n",
              "      <td>40.685997</td>\n",
              "      <td>1</td>\n",
              "      <td>965.00</td>\n",
              "      <td>0.00</td>\n",
              "      <td>0.0</td>\n",
              "      <td>550.0</td>\n",
              "      <td>59.00</td>\n",
              "      <td>0.3</td>\n",
              "      <td>1574.30</td>\n",
              "    </tr>\n",
              "    <tr>\n",
              "      <th>12664616</th>\n",
              "      <td>1</td>\n",
              "      <td>2015-01-12 01:41:43</td>\n",
              "      <td>2015-01-12 01:42:32</td>\n",
              "      <td>4</td>\n",
              "      <td>0.0</td>\n",
              "      <td>-73.591759</td>\n",
              "      <td>40.685711</td>\n",
              "      <td>5</td>\n",
              "      <td>N</td>\n",
              "      <td>-73.591759</td>\n",
              "      <td>40.685711</td>\n",
              "      <td>1</td>\n",
              "      <td>978.00</td>\n",
              "      <td>0.00</td>\n",
              "      <td>0.0</td>\n",
              "      <td>569.0</td>\n",
              "      <td>0.00</td>\n",
              "      <td>0.3</td>\n",
              "      <td>1547.30</td>\n",
              "    </tr>\n",
              "    <tr>\n",
              "      <th>5189604</th>\n",
              "      <td>1</td>\n",
              "      <td>2015-01-06 18:27:38</td>\n",
              "      <td>2015-01-06 19:04:04</td>\n",
              "      <td>2</td>\n",
              "      <td>18.5</td>\n",
              "      <td>0.000000</td>\n",
              "      <td>0.000000</td>\n",
              "      <td>2</td>\n",
              "      <td>N</td>\n",
              "      <td>0.000000</td>\n",
              "      <td>0.000000</td>\n",
              "      <td>2</td>\n",
              "      <td>52.00</td>\n",
              "      <td>0.00</td>\n",
              "      <td>0.5</td>\n",
              "      <td>0.0</td>\n",
              "      <td>1450.09</td>\n",
              "      <td>0.3</td>\n",
              "      <td>1502.89</td>\n",
              "    </tr>\n",
              "    <tr>\n",
              "      <th>738651</th>\n",
              "      <td>1</td>\n",
              "      <td>2015-01-07 13:00:53</td>\n",
              "      <td>2015-01-07 13:02:30</td>\n",
              "      <td>4</td>\n",
              "      <td>0.0</td>\n",
              "      <td>-73.591835</td>\n",
              "      <td>40.686081</td>\n",
              "      <td>5</td>\n",
              "      <td>N</td>\n",
              "      <td>-73.591858</td>\n",
              "      <td>40.686069</td>\n",
              "      <td>1</td>\n",
              "      <td>949.99</td>\n",
              "      <td>0.00</td>\n",
              "      <td>0.0</td>\n",
              "      <td>551.0</td>\n",
              "      <td>0.00</td>\n",
              "      <td>0.3</td>\n",
              "      <td>1501.29</td>\n",
              "    </tr>\n",
              "    <tr>\n",
              "      <th>10141593</th>\n",
              "      <td>1</td>\n",
              "      <td>2015-01-17 05:54:37</td>\n",
              "      <td>2015-02-02 18:34:38</td>\n",
              "      <td>4</td>\n",
              "      <td>0.0</td>\n",
              "      <td>-73.811417</td>\n",
              "      <td>40.691956</td>\n",
              "      <td>5</td>\n",
              "      <td>N</td>\n",
              "      <td>-73.811417</td>\n",
              "      <td>40.691952</td>\n",
              "      <td>1</td>\n",
              "      <td>965.00</td>\n",
              "      <td>0.00</td>\n",
              "      <td>0.0</td>\n",
              "      <td>534.7</td>\n",
              "      <td>0.00</td>\n",
              "      <td>0.3</td>\n",
              "      <td>1500.00</td>\n",
              "    </tr>\n",
              "    <tr>\n",
              "      <th>11519477</th>\n",
              "      <td>2</td>\n",
              "      <td>2015-01-06 14:47:00</td>\n",
              "      <td>2015-01-06 14:47:00</td>\n",
              "      <td>1</td>\n",
              "      <td>0.0</td>\n",
              "      <td>0.000000</td>\n",
              "      <td>0.000000</td>\n",
              "      <td>5</td>\n",
              "      <td>N</td>\n",
              "      <td>0.000000</td>\n",
              "      <td>0.000000</td>\n",
              "      <td>1</td>\n",
              "      <td>999.99</td>\n",
              "      <td>445.87</td>\n",
              "      <td>0.0</td>\n",
              "      <td>0.0</td>\n",
              "      <td>0.00</td>\n",
              "      <td>0.0</td>\n",
              "      <td>1445.86</td>\n",
              "    </tr>\n",
              "  </tbody>\n",
              "</table>\n",
              "</div>\n",
              "    <div class=\"colab-df-buttons\">\n",
              "\n",
              "  <div class=\"colab-df-container\">\n",
              "    <button class=\"colab-df-convert\" onclick=\"convertToInteractive('df-2dd0232a-c573-4fcd-bb3e-28771829ec3f')\"\n",
              "            title=\"Convert this dataframe to an interactive table.\"\n",
              "            style=\"display:none;\">\n",
              "\n",
              "  <svg xmlns=\"http://www.w3.org/2000/svg\" height=\"24px\" viewBox=\"0 -960 960 960\">\n",
              "    <path d=\"M120-120v-720h720v720H120Zm60-500h600v-160H180v160Zm220 220h160v-160H400v160Zm0 220h160v-160H400v160ZM180-400h160v-160H180v160Zm440 0h160v-160H620v160ZM180-180h160v-160H180v160Zm440 0h160v-160H620v160Z\"/>\n",
              "  </svg>\n",
              "    </button>\n",
              "\n",
              "  <style>\n",
              "    .colab-df-container {\n",
              "      display:flex;\n",
              "      gap: 12px;\n",
              "    }\n",
              "\n",
              "    .colab-df-convert {\n",
              "      background-color: #E8F0FE;\n",
              "      border: none;\n",
              "      border-radius: 50%;\n",
              "      cursor: pointer;\n",
              "      display: none;\n",
              "      fill: #1967D2;\n",
              "      height: 32px;\n",
              "      padding: 0 0 0 0;\n",
              "      width: 32px;\n",
              "    }\n",
              "\n",
              "    .colab-df-convert:hover {\n",
              "      background-color: #E2EBFA;\n",
              "      box-shadow: 0px 1px 2px rgba(60, 64, 67, 0.3), 0px 1px 3px 1px rgba(60, 64, 67, 0.15);\n",
              "      fill: #174EA6;\n",
              "    }\n",
              "\n",
              "    .colab-df-buttons div {\n",
              "      margin-bottom: 4px;\n",
              "    }\n",
              "\n",
              "    [theme=dark] .colab-df-convert {\n",
              "      background-color: #3B4455;\n",
              "      fill: #D2E3FC;\n",
              "    }\n",
              "\n",
              "    [theme=dark] .colab-df-convert:hover {\n",
              "      background-color: #434B5C;\n",
              "      box-shadow: 0px 1px 3px 1px rgba(0, 0, 0, 0.15);\n",
              "      filter: drop-shadow(0px 1px 2px rgba(0, 0, 0, 0.3));\n",
              "      fill: #FFFFFF;\n",
              "    }\n",
              "  </style>\n",
              "\n",
              "    <script>\n",
              "      const buttonEl =\n",
              "        document.querySelector('#df-2dd0232a-c573-4fcd-bb3e-28771829ec3f button.colab-df-convert');\n",
              "      buttonEl.style.display =\n",
              "        google.colab.kernel.accessAllowed ? 'block' : 'none';\n",
              "\n",
              "      async function convertToInteractive(key) {\n",
              "        const element = document.querySelector('#df-2dd0232a-c573-4fcd-bb3e-28771829ec3f');\n",
              "        const dataTable =\n",
              "          await google.colab.kernel.invokeFunction('convertToInteractive',\n",
              "                                                    [key], {});\n",
              "        if (!dataTable) return;\n",
              "\n",
              "        const docLinkHtml = 'Like what you see? Visit the ' +\n",
              "          '<a target=\"_blank\" href=https://colab.research.google.com/notebooks/data_table.ipynb>data table notebook</a>'\n",
              "          + ' to learn more about interactive tables.';\n",
              "        element.innerHTML = '';\n",
              "        dataTable['output_type'] = 'display_data';\n",
              "        await google.colab.output.renderOutput(dataTable, element);\n",
              "        const docLink = document.createElement('div');\n",
              "        docLink.innerHTML = docLinkHtml;\n",
              "        element.appendChild(docLink);\n",
              "      }\n",
              "    </script>\n",
              "  </div>\n",
              "\n",
              "\n",
              "<div id=\"df-4d734890-4632-4b74-be01-47ce065259e0\">\n",
              "  <button class=\"colab-df-quickchart\" onclick=\"quickchart('df-4d734890-4632-4b74-be01-47ce065259e0')\"\n",
              "            title=\"Suggest charts\"\n",
              "            style=\"display:none;\">\n",
              "\n",
              "<svg xmlns=\"http://www.w3.org/2000/svg\" height=\"24px\"viewBox=\"0 0 24 24\"\n",
              "     width=\"24px\">\n",
              "    <g>\n",
              "        <path d=\"M19 3H5c-1.1 0-2 .9-2 2v14c0 1.1.9 2 2 2h14c1.1 0 2-.9 2-2V5c0-1.1-.9-2-2-2zM9 17H7v-7h2v7zm4 0h-2V7h2v10zm4 0h-2v-4h2v4z\"/>\n",
              "    </g>\n",
              "</svg>\n",
              "  </button>\n",
              "\n",
              "<style>\n",
              "  .colab-df-quickchart {\n",
              "      --bg-color: #E8F0FE;\n",
              "      --fill-color: #1967D2;\n",
              "      --hover-bg-color: #E2EBFA;\n",
              "      --hover-fill-color: #174EA6;\n",
              "      --disabled-fill-color: #AAA;\n",
              "      --disabled-bg-color: #DDD;\n",
              "  }\n",
              "\n",
              "  [theme=dark] .colab-df-quickchart {\n",
              "      --bg-color: #3B4455;\n",
              "      --fill-color: #D2E3FC;\n",
              "      --hover-bg-color: #434B5C;\n",
              "      --hover-fill-color: #FFFFFF;\n",
              "      --disabled-bg-color: #3B4455;\n",
              "      --disabled-fill-color: #666;\n",
              "  }\n",
              "\n",
              "  .colab-df-quickchart {\n",
              "    background-color: var(--bg-color);\n",
              "    border: none;\n",
              "    border-radius: 50%;\n",
              "    cursor: pointer;\n",
              "    display: none;\n",
              "    fill: var(--fill-color);\n",
              "    height: 32px;\n",
              "    padding: 0;\n",
              "    width: 32px;\n",
              "  }\n",
              "\n",
              "  .colab-df-quickchart:hover {\n",
              "    background-color: var(--hover-bg-color);\n",
              "    box-shadow: 0 1px 2px rgba(60, 64, 67, 0.3), 0 1px 3px 1px rgba(60, 64, 67, 0.15);\n",
              "    fill: var(--button-hover-fill-color);\n",
              "  }\n",
              "\n",
              "  .colab-df-quickchart-complete:disabled,\n",
              "  .colab-df-quickchart-complete:disabled:hover {\n",
              "    background-color: var(--disabled-bg-color);\n",
              "    fill: var(--disabled-fill-color);\n",
              "    box-shadow: none;\n",
              "  }\n",
              "\n",
              "  .colab-df-spinner {\n",
              "    border: 2px solid var(--fill-color);\n",
              "    border-color: transparent;\n",
              "    border-bottom-color: var(--fill-color);\n",
              "    animation:\n",
              "      spin 1s steps(1) infinite;\n",
              "  }\n",
              "\n",
              "  @keyframes spin {\n",
              "    0% {\n",
              "      border-color: transparent;\n",
              "      border-bottom-color: var(--fill-color);\n",
              "      border-left-color: var(--fill-color);\n",
              "    }\n",
              "    20% {\n",
              "      border-color: transparent;\n",
              "      border-left-color: var(--fill-color);\n",
              "      border-top-color: var(--fill-color);\n",
              "    }\n",
              "    30% {\n",
              "      border-color: transparent;\n",
              "      border-left-color: var(--fill-color);\n",
              "      border-top-color: var(--fill-color);\n",
              "      border-right-color: var(--fill-color);\n",
              "    }\n",
              "    40% {\n",
              "      border-color: transparent;\n",
              "      border-right-color: var(--fill-color);\n",
              "      border-top-color: var(--fill-color);\n",
              "    }\n",
              "    60% {\n",
              "      border-color: transparent;\n",
              "      border-right-color: var(--fill-color);\n",
              "    }\n",
              "    80% {\n",
              "      border-color: transparent;\n",
              "      border-right-color: var(--fill-color);\n",
              "      border-bottom-color: var(--fill-color);\n",
              "    }\n",
              "    90% {\n",
              "      border-color: transparent;\n",
              "      border-bottom-color: var(--fill-color);\n",
              "    }\n",
              "  }\n",
              "</style>\n",
              "\n",
              "  <script>\n",
              "    async function quickchart(key) {\n",
              "      const quickchartButtonEl =\n",
              "        document.querySelector('#' + key + ' button');\n",
              "      quickchartButtonEl.disabled = true;  // To prevent multiple clicks.\n",
              "      quickchartButtonEl.classList.add('colab-df-spinner');\n",
              "      try {\n",
              "        const charts = await google.colab.kernel.invokeFunction(\n",
              "            'suggestCharts', [key], {});\n",
              "      } catch (error) {\n",
              "        console.error('Error during call to suggestCharts:', error);\n",
              "      }\n",
              "      quickchartButtonEl.classList.remove('colab-df-spinner');\n",
              "      quickchartButtonEl.classList.add('colab-df-quickchart-complete');\n",
              "    }\n",
              "    (() => {\n",
              "      let quickchartButtonEl =\n",
              "        document.querySelector('#df-4d734890-4632-4b74-be01-47ce065259e0 button');\n",
              "      quickchartButtonEl.style.display =\n",
              "        google.colab.kernel.accessAllowed ? 'block' : 'none';\n",
              "    })();\n",
              "  </script>\n",
              "</div>\n",
              "    </div>\n",
              "  </div>\n"
            ]
          },
          "metadata": {},
          "execution_count": 11
        }
      ]
    },
    {
      "cell_type": "code",
      "source": [
        "sorted_df = df.sort_values(by='tip_amount', ascending=False)\n",
        "\n",
        "# Select the top 10 rows\n",
        "top_10 = sorted_df.head(10)\n",
        "top_10"
      ],
      "metadata": {
        "colab": {
          "base_uri": "https://localhost:8080/",
          "height": 383
        },
        "id": "Z6553cJFMaRy",
        "outputId": "81a9f8a9-c566-4927-d97a-f616975f382c"
      },
      "execution_count": 11,
      "outputs": [
        {
          "output_type": "execute_result",
          "data": {
            "text/plain": [
              "          VendorID tpep_pickup_datetime tpep_dropoff_datetime  \\\n",
              "6715949          1  2015-01-22 21:58:47   2015-01-22 22:07:14   \n",
              "5036510          1  2015-01-02 08:01:51   2015-01-02 08:04:06   \n",
              "329377           1  2015-01-09 10:28:45   2015-01-09 10:28:53   \n",
              "4482329          1  2015-01-23 12:56:38   2015-01-23 13:11:49   \n",
              "4839222          1  2015-01-20 10:49:25   2015-01-21 07:59:04   \n",
              "9674735          1  2015-01-04 03:22:26   2015-01-04 03:31:04   \n",
              "12664616         1  2015-01-12 01:41:43   2015-01-12 01:42:32   \n",
              "738651           1  2015-01-07 13:00:53   2015-01-07 13:02:30   \n",
              "6484239          1  2015-01-09 17:42:08   2015-01-09 17:43:29   \n",
              "10141593         1  2015-01-17 05:54:37   2015-02-02 18:34:38   \n",
              "\n",
              "          passenger_count  trip_distance  pickup_longitude  pickup_latitude  \\\n",
              "6715949                 2            1.9        -73.991280        40.750710   \n",
              "5036510                 1            0.0        -74.010933        40.630848   \n",
              "329377                  1            0.0        -74.010956        40.630894   \n",
              "4482329                 1            3.6        -74.012794        40.643936   \n",
              "4839222                 1            0.0          0.000000         0.000000   \n",
              "9674735                 1            1.4        -74.002258        40.733746   \n",
              "12664616                4            0.0        -73.591759        40.685711   \n",
              "738651                  4            0.0        -73.591835        40.686081   \n",
              "6484239                 4            0.0        -73.591827        40.685993   \n",
              "10141593                4            0.0        -73.811417        40.691956   \n",
              "\n",
              "          RateCodeID store_and_fwd_flag  dropoff_longitude  dropoff_latitude  \\\n",
              "6715949            1                  N         -73.993614         40.729565   \n",
              "5036510            2                  N         -74.010933         40.630856   \n",
              "329377             2                  N         -74.010941         40.630894   \n",
              "4482329            3                  N         -73.979752         40.685059   \n",
              "4839222            1                  Y           0.000000          0.000000   \n",
              "9674735            1                  N         -73.984161         40.725433   \n",
              "12664616           5                  N         -73.591759         40.685711   \n",
              "738651             5                  N         -73.591858         40.686069   \n",
              "6484239            5                  N         -73.591827         40.685997   \n",
              "10141593           5                  N         -73.811417         40.691952   \n",
              "\n",
              "          payment_type  fare_amount  extra  mta_tax  tip_amount  tolls_amount  \\\n",
              "6715949              1         8.00    0.5      0.5      888.20           0.0   \n",
              "5036510              1        52.00    0.0      0.5      850.00           0.0   \n",
              "329377               1        52.00    0.0      0.5      750.00           0.0   \n",
              "4482329              1        32.00    0.0      0.0      700.00           0.0   \n",
              "4839222              1       635.50    0.0      0.0      635.80           0.0   \n",
              "9674735              1         7.50    0.5      0.5      606.57           0.0   \n",
              "12664616             1       978.00    0.0      0.0      569.00           0.0   \n",
              "738651               1       949.99    0.0      0.0      551.00           0.0   \n",
              "6484239              1       965.00    0.0      0.0      550.00          59.0   \n",
              "10141593             1       965.00    0.0      0.0      534.70           0.0   \n",
              "\n",
              "          improvement_surcharge  total_amount  \n",
              "6715949                     0.3        897.50  \n",
              "5036510                     0.0        902.80  \n",
              "329377                      0.3        802.80  \n",
              "4482329                     0.3        732.30  \n",
              "4839222                     0.3       1271.60  \n",
              "9674735                     0.0        615.37  \n",
              "12664616                    0.3       1547.30  \n",
              "738651                      0.3       1501.29  \n",
              "6484239                     0.3       1574.30  \n",
              "10141593                    0.3       1500.00  "
            ],
            "text/html": [
              "\n",
              "  <div id=\"df-6cae400e-caa3-46fb-884d-91788322630d\" class=\"colab-df-container\">\n",
              "    <div>\n",
              "<style scoped>\n",
              "    .dataframe tbody tr th:only-of-type {\n",
              "        vertical-align: middle;\n",
              "    }\n",
              "\n",
              "    .dataframe tbody tr th {\n",
              "        vertical-align: top;\n",
              "    }\n",
              "\n",
              "    .dataframe thead th {\n",
              "        text-align: right;\n",
              "    }\n",
              "</style>\n",
              "<table border=\"1\" class=\"dataframe\">\n",
              "  <thead>\n",
              "    <tr style=\"text-align: right;\">\n",
              "      <th></th>\n",
              "      <th>VendorID</th>\n",
              "      <th>tpep_pickup_datetime</th>\n",
              "      <th>tpep_dropoff_datetime</th>\n",
              "      <th>passenger_count</th>\n",
              "      <th>trip_distance</th>\n",
              "      <th>pickup_longitude</th>\n",
              "      <th>pickup_latitude</th>\n",
              "      <th>RateCodeID</th>\n",
              "      <th>store_and_fwd_flag</th>\n",
              "      <th>dropoff_longitude</th>\n",
              "      <th>dropoff_latitude</th>\n",
              "      <th>payment_type</th>\n",
              "      <th>fare_amount</th>\n",
              "      <th>extra</th>\n",
              "      <th>mta_tax</th>\n",
              "      <th>tip_amount</th>\n",
              "      <th>tolls_amount</th>\n",
              "      <th>improvement_surcharge</th>\n",
              "      <th>total_amount</th>\n",
              "    </tr>\n",
              "  </thead>\n",
              "  <tbody>\n",
              "    <tr>\n",
              "      <th>6715949</th>\n",
              "      <td>1</td>\n",
              "      <td>2015-01-22 21:58:47</td>\n",
              "      <td>2015-01-22 22:07:14</td>\n",
              "      <td>2</td>\n",
              "      <td>1.9</td>\n",
              "      <td>-73.991280</td>\n",
              "      <td>40.750710</td>\n",
              "      <td>1</td>\n",
              "      <td>N</td>\n",
              "      <td>-73.993614</td>\n",
              "      <td>40.729565</td>\n",
              "      <td>1</td>\n",
              "      <td>8.00</td>\n",
              "      <td>0.5</td>\n",
              "      <td>0.5</td>\n",
              "      <td>888.20</td>\n",
              "      <td>0.0</td>\n",
              "      <td>0.3</td>\n",
              "      <td>897.50</td>\n",
              "    </tr>\n",
              "    <tr>\n",
              "      <th>5036510</th>\n",
              "      <td>1</td>\n",
              "      <td>2015-01-02 08:01:51</td>\n",
              "      <td>2015-01-02 08:04:06</td>\n",
              "      <td>1</td>\n",
              "      <td>0.0</td>\n",
              "      <td>-74.010933</td>\n",
              "      <td>40.630848</td>\n",
              "      <td>2</td>\n",
              "      <td>N</td>\n",
              "      <td>-74.010933</td>\n",
              "      <td>40.630856</td>\n",
              "      <td>1</td>\n",
              "      <td>52.00</td>\n",
              "      <td>0.0</td>\n",
              "      <td>0.5</td>\n",
              "      <td>850.00</td>\n",
              "      <td>0.0</td>\n",
              "      <td>0.0</td>\n",
              "      <td>902.80</td>\n",
              "    </tr>\n",
              "    <tr>\n",
              "      <th>329377</th>\n",
              "      <td>1</td>\n",
              "      <td>2015-01-09 10:28:45</td>\n",
              "      <td>2015-01-09 10:28:53</td>\n",
              "      <td>1</td>\n",
              "      <td>0.0</td>\n",
              "      <td>-74.010956</td>\n",
              "      <td>40.630894</td>\n",
              "      <td>2</td>\n",
              "      <td>N</td>\n",
              "      <td>-74.010941</td>\n",
              "      <td>40.630894</td>\n",
              "      <td>1</td>\n",
              "      <td>52.00</td>\n",
              "      <td>0.0</td>\n",
              "      <td>0.5</td>\n",
              "      <td>750.00</td>\n",
              "      <td>0.0</td>\n",
              "      <td>0.3</td>\n",
              "      <td>802.80</td>\n",
              "    </tr>\n",
              "    <tr>\n",
              "      <th>4482329</th>\n",
              "      <td>1</td>\n",
              "      <td>2015-01-23 12:56:38</td>\n",
              "      <td>2015-01-23 13:11:49</td>\n",
              "      <td>1</td>\n",
              "      <td>3.6</td>\n",
              "      <td>-74.012794</td>\n",
              "      <td>40.643936</td>\n",
              "      <td>3</td>\n",
              "      <td>N</td>\n",
              "      <td>-73.979752</td>\n",
              "      <td>40.685059</td>\n",
              "      <td>1</td>\n",
              "      <td>32.00</td>\n",
              "      <td>0.0</td>\n",
              "      <td>0.0</td>\n",
              "      <td>700.00</td>\n",
              "      <td>0.0</td>\n",
              "      <td>0.3</td>\n",
              "      <td>732.30</td>\n",
              "    </tr>\n",
              "    <tr>\n",
              "      <th>4839222</th>\n",
              "      <td>1</td>\n",
              "      <td>2015-01-20 10:49:25</td>\n",
              "      <td>2015-01-21 07:59:04</td>\n",
              "      <td>1</td>\n",
              "      <td>0.0</td>\n",
              "      <td>0.000000</td>\n",
              "      <td>0.000000</td>\n",
              "      <td>1</td>\n",
              "      <td>Y</td>\n",
              "      <td>0.000000</td>\n",
              "      <td>0.000000</td>\n",
              "      <td>1</td>\n",
              "      <td>635.50</td>\n",
              "      <td>0.0</td>\n",
              "      <td>0.0</td>\n",
              "      <td>635.80</td>\n",
              "      <td>0.0</td>\n",
              "      <td>0.3</td>\n",
              "      <td>1271.60</td>\n",
              "    </tr>\n",
              "    <tr>\n",
              "      <th>9674735</th>\n",
              "      <td>1</td>\n",
              "      <td>2015-01-04 03:22:26</td>\n",
              "      <td>2015-01-04 03:31:04</td>\n",
              "      <td>1</td>\n",
              "      <td>1.4</td>\n",
              "      <td>-74.002258</td>\n",
              "      <td>40.733746</td>\n",
              "      <td>1</td>\n",
              "      <td>N</td>\n",
              "      <td>-73.984161</td>\n",
              "      <td>40.725433</td>\n",
              "      <td>1</td>\n",
              "      <td>7.50</td>\n",
              "      <td>0.5</td>\n",
              "      <td>0.5</td>\n",
              "      <td>606.57</td>\n",
              "      <td>0.0</td>\n",
              "      <td>0.0</td>\n",
              "      <td>615.37</td>\n",
              "    </tr>\n",
              "    <tr>\n",
              "      <th>12664616</th>\n",
              "      <td>1</td>\n",
              "      <td>2015-01-12 01:41:43</td>\n",
              "      <td>2015-01-12 01:42:32</td>\n",
              "      <td>4</td>\n",
              "      <td>0.0</td>\n",
              "      <td>-73.591759</td>\n",
              "      <td>40.685711</td>\n",
              "      <td>5</td>\n",
              "      <td>N</td>\n",
              "      <td>-73.591759</td>\n",
              "      <td>40.685711</td>\n",
              "      <td>1</td>\n",
              "      <td>978.00</td>\n",
              "      <td>0.0</td>\n",
              "      <td>0.0</td>\n",
              "      <td>569.00</td>\n",
              "      <td>0.0</td>\n",
              "      <td>0.3</td>\n",
              "      <td>1547.30</td>\n",
              "    </tr>\n",
              "    <tr>\n",
              "      <th>738651</th>\n",
              "      <td>1</td>\n",
              "      <td>2015-01-07 13:00:53</td>\n",
              "      <td>2015-01-07 13:02:30</td>\n",
              "      <td>4</td>\n",
              "      <td>0.0</td>\n",
              "      <td>-73.591835</td>\n",
              "      <td>40.686081</td>\n",
              "      <td>5</td>\n",
              "      <td>N</td>\n",
              "      <td>-73.591858</td>\n",
              "      <td>40.686069</td>\n",
              "      <td>1</td>\n",
              "      <td>949.99</td>\n",
              "      <td>0.0</td>\n",
              "      <td>0.0</td>\n",
              "      <td>551.00</td>\n",
              "      <td>0.0</td>\n",
              "      <td>0.3</td>\n",
              "      <td>1501.29</td>\n",
              "    </tr>\n",
              "    <tr>\n",
              "      <th>6484239</th>\n",
              "      <td>1</td>\n",
              "      <td>2015-01-09 17:42:08</td>\n",
              "      <td>2015-01-09 17:43:29</td>\n",
              "      <td>4</td>\n",
              "      <td>0.0</td>\n",
              "      <td>-73.591827</td>\n",
              "      <td>40.685993</td>\n",
              "      <td>5</td>\n",
              "      <td>N</td>\n",
              "      <td>-73.591827</td>\n",
              "      <td>40.685997</td>\n",
              "      <td>1</td>\n",
              "      <td>965.00</td>\n",
              "      <td>0.0</td>\n",
              "      <td>0.0</td>\n",
              "      <td>550.00</td>\n",
              "      <td>59.0</td>\n",
              "      <td>0.3</td>\n",
              "      <td>1574.30</td>\n",
              "    </tr>\n",
              "    <tr>\n",
              "      <th>10141593</th>\n",
              "      <td>1</td>\n",
              "      <td>2015-01-17 05:54:37</td>\n",
              "      <td>2015-02-02 18:34:38</td>\n",
              "      <td>4</td>\n",
              "      <td>0.0</td>\n",
              "      <td>-73.811417</td>\n",
              "      <td>40.691956</td>\n",
              "      <td>5</td>\n",
              "      <td>N</td>\n",
              "      <td>-73.811417</td>\n",
              "      <td>40.691952</td>\n",
              "      <td>1</td>\n",
              "      <td>965.00</td>\n",
              "      <td>0.0</td>\n",
              "      <td>0.0</td>\n",
              "      <td>534.70</td>\n",
              "      <td>0.0</td>\n",
              "      <td>0.3</td>\n",
              "      <td>1500.00</td>\n",
              "    </tr>\n",
              "  </tbody>\n",
              "</table>\n",
              "</div>\n",
              "    <div class=\"colab-df-buttons\">\n",
              "\n",
              "  <div class=\"colab-df-container\">\n",
              "    <button class=\"colab-df-convert\" onclick=\"convertToInteractive('df-6cae400e-caa3-46fb-884d-91788322630d')\"\n",
              "            title=\"Convert this dataframe to an interactive table.\"\n",
              "            style=\"display:none;\">\n",
              "\n",
              "  <svg xmlns=\"http://www.w3.org/2000/svg\" height=\"24px\" viewBox=\"0 -960 960 960\">\n",
              "    <path d=\"M120-120v-720h720v720H120Zm60-500h600v-160H180v160Zm220 220h160v-160H400v160Zm0 220h160v-160H400v160ZM180-400h160v-160H180v160Zm440 0h160v-160H620v160ZM180-180h160v-160H180v160Zm440 0h160v-160H620v160Z\"/>\n",
              "  </svg>\n",
              "    </button>\n",
              "\n",
              "  <style>\n",
              "    .colab-df-container {\n",
              "      display:flex;\n",
              "      gap: 12px;\n",
              "    }\n",
              "\n",
              "    .colab-df-convert {\n",
              "      background-color: #E8F0FE;\n",
              "      border: none;\n",
              "      border-radius: 50%;\n",
              "      cursor: pointer;\n",
              "      display: none;\n",
              "      fill: #1967D2;\n",
              "      height: 32px;\n",
              "      padding: 0 0 0 0;\n",
              "      width: 32px;\n",
              "    }\n",
              "\n",
              "    .colab-df-convert:hover {\n",
              "      background-color: #E2EBFA;\n",
              "      box-shadow: 0px 1px 2px rgba(60, 64, 67, 0.3), 0px 1px 3px 1px rgba(60, 64, 67, 0.15);\n",
              "      fill: #174EA6;\n",
              "    }\n",
              "\n",
              "    .colab-df-buttons div {\n",
              "      margin-bottom: 4px;\n",
              "    }\n",
              "\n",
              "    [theme=dark] .colab-df-convert {\n",
              "      background-color: #3B4455;\n",
              "      fill: #D2E3FC;\n",
              "    }\n",
              "\n",
              "    [theme=dark] .colab-df-convert:hover {\n",
              "      background-color: #434B5C;\n",
              "      box-shadow: 0px 1px 3px 1px rgba(0, 0, 0, 0.15);\n",
              "      filter: drop-shadow(0px 1px 2px rgba(0, 0, 0, 0.3));\n",
              "      fill: #FFFFFF;\n",
              "    }\n",
              "  </style>\n",
              "\n",
              "    <script>\n",
              "      const buttonEl =\n",
              "        document.querySelector('#df-6cae400e-caa3-46fb-884d-91788322630d button.colab-df-convert');\n",
              "      buttonEl.style.display =\n",
              "        google.colab.kernel.accessAllowed ? 'block' : 'none';\n",
              "\n",
              "      async function convertToInteractive(key) {\n",
              "        const element = document.querySelector('#df-6cae400e-caa3-46fb-884d-91788322630d');\n",
              "        const dataTable =\n",
              "          await google.colab.kernel.invokeFunction('convertToInteractive',\n",
              "                                                    [key], {});\n",
              "        if (!dataTable) return;\n",
              "\n",
              "        const docLinkHtml = 'Like what you see? Visit the ' +\n",
              "          '<a target=\"_blank\" href=https://colab.research.google.com/notebooks/data_table.ipynb>data table notebook</a>'\n",
              "          + ' to learn more about interactive tables.';\n",
              "        element.innerHTML = '';\n",
              "        dataTable['output_type'] = 'display_data';\n",
              "        await google.colab.output.renderOutput(dataTable, element);\n",
              "        const docLink = document.createElement('div');\n",
              "        docLink.innerHTML = docLinkHtml;\n",
              "        element.appendChild(docLink);\n",
              "      }\n",
              "    </script>\n",
              "  </div>\n",
              "\n",
              "\n",
              "<div id=\"df-d5b6286d-93aa-4aca-9b52-a85fabbb57da\">\n",
              "  <button class=\"colab-df-quickchart\" onclick=\"quickchart('df-d5b6286d-93aa-4aca-9b52-a85fabbb57da')\"\n",
              "            title=\"Suggest charts\"\n",
              "            style=\"display:none;\">\n",
              "\n",
              "<svg xmlns=\"http://www.w3.org/2000/svg\" height=\"24px\"viewBox=\"0 0 24 24\"\n",
              "     width=\"24px\">\n",
              "    <g>\n",
              "        <path d=\"M19 3H5c-1.1 0-2 .9-2 2v14c0 1.1.9 2 2 2h14c1.1 0 2-.9 2-2V5c0-1.1-.9-2-2-2zM9 17H7v-7h2v7zm4 0h-2V7h2v10zm4 0h-2v-4h2v4z\"/>\n",
              "    </g>\n",
              "</svg>\n",
              "  </button>\n",
              "\n",
              "<style>\n",
              "  .colab-df-quickchart {\n",
              "      --bg-color: #E8F0FE;\n",
              "      --fill-color: #1967D2;\n",
              "      --hover-bg-color: #E2EBFA;\n",
              "      --hover-fill-color: #174EA6;\n",
              "      --disabled-fill-color: #AAA;\n",
              "      --disabled-bg-color: #DDD;\n",
              "  }\n",
              "\n",
              "  [theme=dark] .colab-df-quickchart {\n",
              "      --bg-color: #3B4455;\n",
              "      --fill-color: #D2E3FC;\n",
              "      --hover-bg-color: #434B5C;\n",
              "      --hover-fill-color: #FFFFFF;\n",
              "      --disabled-bg-color: #3B4455;\n",
              "      --disabled-fill-color: #666;\n",
              "  }\n",
              "\n",
              "  .colab-df-quickchart {\n",
              "    background-color: var(--bg-color);\n",
              "    border: none;\n",
              "    border-radius: 50%;\n",
              "    cursor: pointer;\n",
              "    display: none;\n",
              "    fill: var(--fill-color);\n",
              "    height: 32px;\n",
              "    padding: 0;\n",
              "    width: 32px;\n",
              "  }\n",
              "\n",
              "  .colab-df-quickchart:hover {\n",
              "    background-color: var(--hover-bg-color);\n",
              "    box-shadow: 0 1px 2px rgba(60, 64, 67, 0.3), 0 1px 3px 1px rgba(60, 64, 67, 0.15);\n",
              "    fill: var(--button-hover-fill-color);\n",
              "  }\n",
              "\n",
              "  .colab-df-quickchart-complete:disabled,\n",
              "  .colab-df-quickchart-complete:disabled:hover {\n",
              "    background-color: var(--disabled-bg-color);\n",
              "    fill: var(--disabled-fill-color);\n",
              "    box-shadow: none;\n",
              "  }\n",
              "\n",
              "  .colab-df-spinner {\n",
              "    border: 2px solid var(--fill-color);\n",
              "    border-color: transparent;\n",
              "    border-bottom-color: var(--fill-color);\n",
              "    animation:\n",
              "      spin 1s steps(1) infinite;\n",
              "  }\n",
              "\n",
              "  @keyframes spin {\n",
              "    0% {\n",
              "      border-color: transparent;\n",
              "      border-bottom-color: var(--fill-color);\n",
              "      border-left-color: var(--fill-color);\n",
              "    }\n",
              "    20% {\n",
              "      border-color: transparent;\n",
              "      border-left-color: var(--fill-color);\n",
              "      border-top-color: var(--fill-color);\n",
              "    }\n",
              "    30% {\n",
              "      border-color: transparent;\n",
              "      border-left-color: var(--fill-color);\n",
              "      border-top-color: var(--fill-color);\n",
              "      border-right-color: var(--fill-color);\n",
              "    }\n",
              "    40% {\n",
              "      border-color: transparent;\n",
              "      border-right-color: var(--fill-color);\n",
              "      border-top-color: var(--fill-color);\n",
              "    }\n",
              "    60% {\n",
              "      border-color: transparent;\n",
              "      border-right-color: var(--fill-color);\n",
              "    }\n",
              "    80% {\n",
              "      border-color: transparent;\n",
              "      border-right-color: var(--fill-color);\n",
              "      border-bottom-color: var(--fill-color);\n",
              "    }\n",
              "    90% {\n",
              "      border-color: transparent;\n",
              "      border-bottom-color: var(--fill-color);\n",
              "    }\n",
              "  }\n",
              "</style>\n",
              "\n",
              "  <script>\n",
              "    async function quickchart(key) {\n",
              "      const quickchartButtonEl =\n",
              "        document.querySelector('#' + key + ' button');\n",
              "      quickchartButtonEl.disabled = true;  // To prevent multiple clicks.\n",
              "      quickchartButtonEl.classList.add('colab-df-spinner');\n",
              "      try {\n",
              "        const charts = await google.colab.kernel.invokeFunction(\n",
              "            'suggestCharts', [key], {});\n",
              "      } catch (error) {\n",
              "        console.error('Error during call to suggestCharts:', error);\n",
              "      }\n",
              "      quickchartButtonEl.classList.remove('colab-df-spinner');\n",
              "      quickchartButtonEl.classList.add('colab-df-quickchart-complete');\n",
              "    }\n",
              "    (() => {\n",
              "      let quickchartButtonEl =\n",
              "        document.querySelector('#df-d5b6286d-93aa-4aca-9b52-a85fabbb57da button');\n",
              "      quickchartButtonEl.style.display =\n",
              "        google.colab.kernel.accessAllowed ? 'block' : 'none';\n",
              "    })();\n",
              "  </script>\n",
              "</div>\n",
              "    </div>\n",
              "  </div>\n"
            ]
          },
          "metadata": {},
          "execution_count": 11
        }
      ]
    },
    {
      "cell_type": "code",
      "source": [
        "plt.figure(figsize = (20,5))\n",
        "sns.boxplot(df.trip_distance)\n",
        "plt.show()"
      ],
      "metadata": {
        "colab": {
          "base_uri": "https://localhost:8080/",
          "height": 272
        },
        "id": "tosBUYK4KjYl",
        "outputId": "f270c056-93f7-4a14-e564-047d33d3628f"
      },
      "execution_count": 12,
      "outputs": [
        {
          "output_type": "display_data",
          "data": {
            "text/plain": [
              "<Figure size 2000x500 with 1 Axes>"
            ],
            "image/png": "[encoded data removed]"
          },
          "metadata": {}
        }
      ]
    },
    {
      "cell_type": "code",
      "source": [
        "print(f\"There are {df.trip_distance[df.trip_distance == 0 ].count()} trip records with 0 miles distance\")"
      ],
      "metadata": {
        "colab": {
          "base_uri": "https://localhost:8080/"
        },
        "id": "PGH3nZV7ODUP",
        "outputId": "34e12b74-0703-47f3-b0eb-f5b57aa76161"
      },
      "execution_count": 13,
      "outputs": [
        {
          "output_type": "stream",
          "name": "stdout",
          "text": [
            "There are 79365 trip records with 0 miles distance\n"
          ]
        }
      ]
    },
    {
      "cell_type": "markdown",
      "source": [
        "There are 79365 trip records with 0 miles distance.\n",
        "\n",
        "Around 6K trip record with distance equal to 0. Below are some possible explanation for such records.\n",
        "Customer changed mind and cancelled the journey just after accepting it.\n",
        "\n",
        "Software didn't recorded dropoff location properly due to which dropoff location is the same as the pickup location.\n",
        "Issue with GPS tracker while the journey is being finished.\n",
        "\n",
        "Driver cancelled the trip just after accepting it due to some reason. So the trip couldn't start\n",
        "Or some other issue with the software itself which a technical guy can explain\n",
        "T\n",
        "here is some serious inconsistencies in the data where drop off location is same as the pickup location. We can't think off imputing the distance values considering a correlation with the duration because the dropoff_location coordinates would not be inline with the distance otherwise. We will look more to it in bivariate analysis with the Trip duration."
      ],
      "metadata": {
        "id": "BTdmIyf4OUeo"
      }
    },
    {
      "cell_type": "code",
      "source": [
        "df.trip_distance.groupby(pd.cut(df.trip_distance, np.arange(0,80,10))).count().plot(kind='barh',figsize = (19,10))\n",
        "plt.show()"
      ],
      "metadata": {
        "colab": {
          "base_uri": "https://localhost:8080/",
          "height": 497
        },
        "id": "_d3svs7VON2l",
        "outputId": "72d9d9e1-9edc-44bd-860a-2682312b450e"
      },
      "execution_count": 17,
      "outputs": [
        {
          "output_type": "display_data",
          "data": {
            "text/plain": [
              "<Figure size 1900x1000 with 1 Axes>"
            ],
            "image/png": "[encoded data removed]"
          },
          "metadata": {}
        }
      ]
    },
    {
      "cell_type": "code",
      "source": [
        "df_short = df[df.trip_distance <= 30].shape[0]\n",
        "df_long = df[df.trip_distance > 30].shape[0]\n",
        "\n",
        "print(f\"Short Trips: {df_short} records in total.\")\n",
        "print(f\"Long Trips: {df_long} records in total.\")\n"
      ],
      "metadata": {
        "colab": {
          "base_uri": "https://localhost:8080/"
        },
        "id": "b1OKmCCAOyxk",
        "outputId": "9c985d2a-ed8a-4d8d-efd7-19ec56fdd18a"
      },
      "execution_count": 20,
      "outputs": [
        {
          "output_type": "stream",
          "name": "stdout",
          "text": [
            "Short Trips: 12745595 records in total.\n",
            "Long Trips: 3390 records in total.\n"
          ]
        }
      ]
    }
  ]
}